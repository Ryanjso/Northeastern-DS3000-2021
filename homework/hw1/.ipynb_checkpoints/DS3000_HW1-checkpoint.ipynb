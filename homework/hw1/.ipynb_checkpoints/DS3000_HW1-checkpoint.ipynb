{
 "cells": [
  {
   "cell_type": "markdown",
   "metadata": {
    "id": "bLMCPtB_tInX"
   },
   "source": [
    "<center> <h1> DS 3000 - HW 1</h1> </center>"
   ]
  },
  {
   "cell_type": "markdown",
   "metadata": {
    "id": "SYS9KHh5tInY"
   },
   "source": [
    "<center> <h3> Ryan Soderberg </h3></center>"
   ]
  },
  {
   "cell_type": "markdown",
   "metadata": {
    "id": "t8PRzJLztInZ"
   },
   "source": [
    "## What to do\n",
    "\n",
    "* Carefully read the description below.\n",
    "* **As you write your code, please include comments, when necessary**\n",
    "  * When you are doing a complicated thing, for instance.\n",
    "  * This is not needed for simple things.\n",
    "* Make sure you execute your code for each question and **compare** the output to the sample output provided, if any.\n",
    "* **Refrain** from using advanced Python capabilities that were not covered in class.\n",
    "* **When in doubt, ASK!** Post a question on the Piazza discussion forum for this homework assignment.\n",
    "* Complete the assignment on your own! **No collaboration is allowed.**"
   ]
  },
  {
   "cell_type": "markdown",
   "metadata": {
    "id": "daTsTHkptIna"
   },
   "source": [
    "## What to submit\n",
    "* When you are done with the assignment, save it.\n",
    "* If using Colab, download it as a **Jupyter Notebook** file (DS3000_HW1.ipynb)\n",
    "* If using Anacoda, upload your completed Notebook to Colab (https://colab.research.google.com/notebooks/), as shown in the video.\n",
    "* Get a shareable link to your Notebook on Colab\n",
    "    * Go to Share near the top-right corner of the screen.\n",
    "    * <font color='red'> **Make sure you select Anyone with the Link Can View** </font>\n",
    "    * Copy the link\n",
    "* Go to Canvas\n",
    "* **Upload the physical copy of Jupyter Notebook through the Canvas assignment link.**\n",
    "* **Paste the link to your Notebook hosted on Colab in the Comments field.**\n",
    "* Both are required!\n",
    "* You can submit multiple attempts. The last attempt will be graded.\n",
    "* Submissions failing to follow these instructions will receive a grade of 0."
   ]
  },
  {
   "cell_type": "markdown",
   "metadata": {
    "id": "EfhBUyAItInb"
   },
   "source": [
    "# <center> Part 1: Data Avengers... Assemble! </center>"
   ]
  },
  {
   "cell_type": "markdown",
   "metadata": {
    "id": "vjrBowQghXZ_"
   },
   "source": [
    "<center><img src = \"https://vignette.wikia.nocookie.net/marvelcinematicuniverse/images/0/0a/Nick_Fury_Textless_AoU_Poster.jpg\" width = 150></center>\n",
    "\n",
    "Nick Fury is waiting for a assignment from the council. While waiting, he decides to implement the popular dice game 'Craps' in Python. You know, why not? :) Your task is to help Fury with this.\n",
    "\n",
    "**The rules of the game are as follows:**\n",
    "\n",
    "* You roll two six-sided dice, each with faces containing one, two, three, four, five and six spots, respectively. \n",
    "* When the dice come to rest, the sum of the spots on the two upward faces is calculated. \n",
    "    * If the sum is 7 or 11 on the first roll, you win. \n",
    "    * If the sum is 2, 3 or 12 on the first roll (called “craps”), you lose (i.e., the “house” wins). \n",
    "    * If the sum is 4, 5, 6, 8, 9 or 10 on the first roll, that sum becomes your “point.” \n",
    "* To win, you must continue rolling the dice until you “make your point” (i.e., roll that same point value). In other words, if the sum of your new roll is equal to your point, you win.\n",
    "* You lose by rolling a 7 before making your point.\n",
    "* Thus, the game continues until you win or lose."
   ]
  },
  {
   "cell_type": "markdown",
   "metadata": {
    "id": "NH7ZSnRchXZ_"
   },
   "source": [
    "**The requirements are as follows:**\n",
    "\n",
    "* Your script should be designed to play 10000 games of craps. In the end, a summary of the results (number of wins/losses) will be presented as described below.\n",
    "* Use a **wins dictionary** to keep track of the number of games won for a particular number of rolls (remember the game continues until you win, meaning a single game might contain many rolls). For instance, a typical key-value pair in the **wins dictionary** may be \n",
    "    * **5: 3000**\n",
    "    * indicating that 3000 games were won on the 5th roll.\n",
    "    \n",
    "* Likewise, use a **losses dictionary** to keep track of the number of games lost for a particular number of rolls.\n",
    "* As the simulation proceeds, keep updating the dictionaries.\n",
    "* The dictionaries should **store the number of wins/losses for up to 20 rolls**. After 20 rolls, the game should consider those as wins/losses after the 20th roll. You should use a key of 21 to represent these in your dictionary. Thus the sizes of the wins and losses dictionaries should be 21.\n",
    "\n",
    "\n",
    "When in doubt, take a break, come back, and read the description again."
   ]
  },
  {
   "cell_type": "markdown",
   "metadata": {
    "id": "_iLq9yQwhXaA"
   },
   "source": [
    "## Q1 (2 points)\n",
    "Write a **function**, called *roll_dice*, that randomly rolls two dice and return their face values as a **tuple** (int). Refer to the sample output below."
   ]
  },
  {
   "cell_type": "code",
   "execution_count": 13,
   "metadata": {
    "id": "-mD8YQFJhXaA"
   },
   "outputs": [],
   "source": [
    "import random\n",
    "\n",
    "def roll_dice():\n",
    "    return(random.randint(1,6), random.randint(1,6))"
   ]
  },
  {
   "cell_type": "code",
   "execution_count": 14,
   "metadata": {
    "colab": {
     "base_uri": "https://localhost:8080/",
     "height": 34
    },
    "id": "SnIteGaaFaTk",
    "outputId": "7353f56d-8b09-4ca3-bf00-30ac3f6353ea"
   },
   "outputs": [
    {
     "data": {
      "text/plain": [
       "(1, 1)"
      ]
     },
     "execution_count": 14,
     "metadata": {},
     "output_type": "execute_result"
    }
   ],
   "source": [
    "roll_dice()"
   ]
  },
  {
   "cell_type": "markdown",
   "metadata": {
    "id": "cIPnYnaXhXaD"
   },
   "source": [
    "## Q2 (8 points)\n",
    "Write a function, *play_craps*, that plays **10000 games of craps** based on the rules and requirement specified above. The  value of the number of games should be modifiable. Thus, your function should accept the number_of_games variable as a paramater instead of using the hard-coded value of 10000.\n",
    "\n",
    "This script should begin by making the first roll (using the roll_dice function you just defined). Your script should keep track of **wins and losses** and store their counts for each roll in their corresponding dictionaries. The sample output below displays the contents of the wins and losses dictionaries after this code snippet is executed."
   ]
  },
  {
   "cell_type": "code",
   "execution_count": 41,
   "metadata": {
    "id": "gSrnUtAehXaD"
   },
   "outputs": [],
   "source": [
    "#for your convenience the dictionaries are already defined and you should use them.:\n",
    "wins = {}\n",
    "losses = {}\n",
    "\n",
    "\n",
    "def recursive_dice_roller(number_of_rolls, point=0):\n",
    "    '''\n",
    "    Returns tuple of (number_of_rolls, win_boolean)\n",
    "    (3, True) # win\n",
    "    (3, False) # loss\n",
    "    '''\n",
    "    # roll dice\n",
    "    sum_of_roll = sum(list(roll_dice()))\n",
    "    number_of_rolls += 1\n",
    "    \n",
    "    # if its first roll\n",
    "    if number_of_rolls == 1:\n",
    "        \n",
    "        # if dice is a win return\n",
    "        if sum_of_roll in [7, 11]:\n",
    "            return(number_of_rolls, True)\n",
    "    \n",
    "        # if dice is a loss return\n",
    "        if sum_of_roll in [2, 3, 12]:\n",
    "            return(number_of_rolls, False)\n",
    "        \n",
    "        # if dice does not meet a win condition set point\n",
    "        point = sum_of_roll\n",
    "        return recursive_dice_roller(number_of_rolls, point)\n",
    "\n",
    "        \n",
    "\n",
    "    # if not first roll check for win or loss\n",
    "    else:\n",
    "\n",
    "        # win\n",
    "        if sum_of_roll == point:\n",
    "            return(number_of_rolls, True)\n",
    "\n",
    "        \n",
    "        # loss\n",
    "        if sum_of_roll == 7:\n",
    "            return(number_of_rolls, False)\n",
    "\n",
    "\n",
    "        # if no condition is met, run again\n",
    "        return recursive_dice_roller(number_of_rolls, point)\n",
    "\n",
    "    \n",
    "\n",
    "def play_craps(number_of_games):\n",
    "    for game in range(number_of_games):\n",
    "        \n",
    "        game_tuple = recursive_dice_roller(0)\n",
    "        number_of_rolls = game_tuple[0]\n",
    "        is_a_win = game_tuple[1]\n",
    "        \n",
    "        if is_a_win: \n",
    "            wins[number_of_rolls] = wins.setdefault(number_of_rolls, 0) + 1\n",
    "\n",
    "        else:\n",
    "            losses[number_of_rolls] = losses.setdefault(number_of_rolls, 0) + 1\n"
   ]
  },
  {
   "cell_type": "code",
   "execution_count": 42,
   "metadata": {
    "id": "pBLotdjIhXaF"
   },
   "outputs": [],
   "source": [
    "play_craps(10000)"
   ]
  },
  {
   "cell_type": "code",
   "execution_count": 43,
   "metadata": {
    "colab": {
     "base_uri": "https://localhost:8080/",
     "height": 381
    },
    "id": "Bt33fmhhhXaH",
    "outputId": "023c8529-e0e6-4b7b-9bc9-c74542d28ff5"
   },
   "outputs": [
    {
     "data": {
      "text/plain": [
       "{5: 297,\n",
       " 7: 186,\n",
       " 3: 523,\n",
       " 2: 789,\n",
       " 1: 2192,\n",
       " 8: 98,\n",
       " 4: 380,\n",
       " 6: 180,\n",
       " 10: 54,\n",
       " 11: 45,\n",
       " 16: 8,\n",
       " 9: 77,\n",
       " 19: 5,\n",
       " 18: 8,\n",
       " 12: 27,\n",
       " 20: 3,\n",
       " 22: 2,\n",
       " 17: 6,\n",
       " 14: 13,\n",
       " 13: 10,\n",
       " 15: 9,\n",
       " 21: 1,\n",
       " 23: 1,\n",
       " 33: 1}"
      ]
     },
     "execution_count": 43,
     "metadata": {},
     "output_type": "execute_result"
    }
   ],
   "source": [
    "wins # 1:2267 indicates 2267 games were won on the 1st roll\n",
    "#note that the indices won't be ordered sequentially"
   ]
  },
  {
   "cell_type": "code",
   "execution_count": 44,
   "metadata": {
    "colab": {
     "base_uri": "https://localhost:8080/",
     "height": 381
    },
    "id": "4rFo85oLhXaK",
    "outputId": "cbbc2861-9369-48b0-f8cb-39579c989407"
   },
   "outputs": [
    {
     "data": {
      "text/plain": [
       "{10: 80,\n",
       " 4: 571,\n",
       " 2: 1116,\n",
       " 6: 283,\n",
       " 5: 449,\n",
       " 3: 767,\n",
       " 1: 1133,\n",
       " 21: 3,\n",
       " 7: 205,\n",
       " 16: 10,\n",
       " 11: 56,\n",
       " 13: 25,\n",
       " 8: 155,\n",
       " 15: 16,\n",
       " 9: 116,\n",
       " 14: 25,\n",
       " 12: 50,\n",
       " 22: 2,\n",
       " 17: 5,\n",
       " 28: 1,\n",
       " 26: 1,\n",
       " 19: 7,\n",
       " 20: 1,\n",
       " 18: 3,\n",
       " 23: 5}"
      ]
     },
     "execution_count": 44,
     "metadata": {},
     "output_type": "execute_result"
    }
   ],
   "source": [
    "losses # 3:776 indicates 776 games were lost on the 3rd roll"
   ]
  },
  {
   "cell_type": "markdown",
   "metadata": {
    "id": "8UUu06X9hXaN"
   },
   "source": [
    "## Q3 (3 points)\n",
    "Write a function that displays the results of the game based on the previous step. Your code should present the number of the wins and losses for the number of rolls values stored in the dictionaries, as shown below. Avoid hard-coding the values.\n",
    "\n",
    "At the end of the output, the function should display the probability of winning across all the games (which can be calculated as the proportion of the number of wins to the total number of games).\n",
    "\n",
    "You can use the escape characters \"\\n\" and \"\\t\" to format your output."
   ]
  },
  {
   "cell_type": "code",
   "execution_count": 81,
   "metadata": {
    "id": "kEegDsD4k9Rt"
   },
   "outputs": [],
   "source": [
    "def total_above(dict, value):\n",
    "    total = 0\n",
    "    for k, v in dict.items():\n",
    "        if k > value:\n",
    "            total += v\n",
    "\n",
    "    return total\n",
    "\n",
    "def display_results():\n",
    "    print(\"ROLL\\tWINS\\tLOSSES\")\n",
    "    for roll in range(1, 21):\n",
    "        print(str(roll) + \"\\t\" + str(wins[roll]) + \"\\t\" + str(losses[roll]))\n",
    "    print( \"20+\\t\" + str(total_above(wins, 20)) + \"\\t\" + str(total_above(losses, 20)))\n",
    "\n",
    "    number_of_rolls = 10000\n",
    "    sum_of_wins = sum(wins.values())\n",
    "    probability = sum_of_wins/number_of_rolls\n",
    "    \n",
    "    print('\\nThe probability of winning is '+ str(sum_of_wins) +' / '+ str(number_of_rolls) +' = '+ str(probability))"
   ]
  },
  {
   "cell_type": "code",
   "execution_count": 82,
   "metadata": {
    "colab": {
     "base_uri": "https://localhost:8080/",
     "height": 433
    },
    "id": "EmRF4TlphXaN",
    "outputId": "184aa29a-ebe8-4ae9-ece8-5b7ee78ea64d"
   },
   "outputs": [
    {
     "name": "stdout",
     "output_type": "stream",
     "text": [
      "ROLL\tWINS\tLOSSES\n",
      "1\t2192\t1133\n",
      "2\t789\t1116\n",
      "3\t523\t767\n",
      "4\t380\t571\n",
      "5\t297\t449\n",
      "6\t180\t283\n",
      "7\t186\t205\n",
      "8\t98\t155\n",
      "9\t77\t116\n",
      "10\t54\t80\n",
      "11\t45\t56\n",
      "12\t27\t50\n",
      "13\t10\t25\n",
      "14\t13\t25\n",
      "15\t9\t16\n",
      "16\t8\t10\n",
      "17\t6\t5\n",
      "18\t8\t3\n",
      "19\t5\t7\n",
      "20\t3\t1\n",
      "20+\t5\t12\n",
      "\n",
      "The probability of winning is 4915 / 10000 = 0.4915\n"
     ]
    }
   ],
   "source": [
    "display_results()"
   ]
  },
  {
   "cell_type": "markdown",
   "metadata": {
    "id": "nB0SI-Z0tInc"
   },
   "source": [
    "<hr>\n",
    "\n",
    "**Computer chimes...**\n",
    "**Computer chimes...**\n",
    "**Computer chimes...**\n",
    "**Computer chimes...**\n",
    "**Computer chimes...**\n",
    "\n",
    "**Nick Fury**: What is going on??? <br>\n",
    "**Maria Hill**: Colonel, look at this! Someone sent this! \n",
    "\n",
    "(Fury looks at the screen and sees a long sequence of 0s and 1s!)\n",
    "\n",
    "**Nick Fury**: It's a string in binary!\n"
   ]
  },
  {
   "cell_type": "code",
   "execution_count": 85,
   "metadata": {
    "id": "5ibvV9aaICR1"
   },
   "outputs": [],
   "source": [
    "received_message = \"01100101011000110110010001100100011000110110010101100011011001000110010001100110011001010110011001100001\""
   ]
  },
  {
   "cell_type": "markdown",
   "metadata": {
    "id": "ehLmkyWPKtP1"
   },
   "source": [
    "**Nick Fury**: We gotta decode this right NOW! This is just insane!\n",
    "\n",
    "<hr>\n",
    "Note: This is a binary string with each 8-bit sequence representing a lower case character.\n",
    "\n",
    "\n",
    "## Q4 (2 points)\n",
    "Write a one-line function 'split_message' that would take in the entire string and split it into a list of strings, each 8-character long, and return that list.\n",
    "\n",
    "For example: <br>\n",
    "\"0011100101100101\" would split into [\"00111001\", \"01100101\"]\n"
   ]
  },
  {
   "cell_type": "code",
   "execution_count": 87,
   "metadata": {
    "id": "F76qzpNPHsop"
   },
   "outputs": [],
   "source": [
    "def split_message(message):\n",
    "    return [message[i:i+8] for i in range(0, len(message), 8)]"
   ]
  },
  {
   "cell_type": "code",
   "execution_count": 88,
   "metadata": {
    "id": "5gYvvQ-UN6Ti",
    "outputId": "a6492cfa-0775-469d-d523-a819b345d73e"
   },
   "outputs": [
    {
     "data": {
      "text/plain": [
       "['01100101',\n",
       " '01100011',\n",
       " '01100100',\n",
       " '01100100',\n",
       " '01100011',\n",
       " '01100101',\n",
       " '01100011',\n",
       " '01100100',\n",
       " '01100100',\n",
       " '01100110',\n",
       " '01100101',\n",
       " '01100110',\n",
       " '01100001']"
      ]
     },
     "execution_count": 88,
     "metadata": {},
     "output_type": "execute_result"
    }
   ],
   "source": [
    "clean_message = split_message(received_message)\n",
    "clean_message"
   ]
  },
  {
   "cell_type": "markdown",
   "metadata": {
    "id": "eotfW8-EgLsg"
   },
   "source": [
    "## Q5 (2 points)\n",
    "\n",
    "You will now need to decode the cleaned message. For this purpose, first write a function that retuns a dictionary of lowercase letters and their 8-bit binary codes, which you will need in the next step. The dictionary would contain 8-bit codes as keys and their corresponding character as value, as shown in the sample output.\n",
    "\n",
    "- Use the helper function 'decode_character' to convert a character into its 8-bit binary equivalent. \n",
    "- The helper function takes in a character and returns the 8-bit representation\n",
    "- You will need to generate a dictionary of letter characters and their binary code before you can decode the message. This is what you are doing in this step.\n",
    "\n",
    "The dictionary would look something like this:\n",
    "dict_bin_text = {\n",
    "  '01100001': 'a',\n",
    "  '01100010': 'b',\n",
    "  ...\n",
    "}\n",
    "\n",
    "**Hint:** You will need to use two new built-in functions: ord() and chr(). \n",
    "\n",
    "* ord('a') = 97 and chr(97) = 'a'. \n",
    "* In-built 'ord' function would return ASCII value of the given character. Whereas 'chr' would return character given the ASCII value.\n",
    "\n",
    "Try <br> \n",
    "<i><center>for i in range('a', 'z')</center></i><br> Error? You know what to do!\n",
    "\n",
    "<hr>\n",
    "Note: There are only lowercase letters in the message. To iterate over 'a' -> 'z', you can iterate over 97 -> 123. Pause for a moment and think about why that is the case."
   ]
  },
  {
   "cell_type": "code",
   "execution_count": 95,
   "metadata": {
    "id": "2ZX1u7-Gf78O"
   },
   "outputs": [],
   "source": [
    "#use this helper function when decoding characters\n",
    "#it returns the ASCII code for the character\n",
    "def decode_character(x):\n",
    "    return format(x, '08b')\n"
   ]
  },
  {
   "cell_type": "code",
   "execution_count": 98,
   "metadata": {
    "id": "QW0xXiaihB59"
   },
   "outputs": [],
   "source": [
    "def make_dict_bin_text():\n",
    "    list_of_letters=[chr(letter) for letter in range (97, 123)]\n",
    "    dict = {}\n",
    "    for letter in list_of_letters:\n",
    "        dict[decode_character(ord(letter))] = letter\n",
    "    \n",
    "    return dict"
   ]
  },
  {
   "cell_type": "code",
   "execution_count": 99,
   "metadata": {
    "id": "POnTSmkZhUmR",
    "outputId": "01d74aaf-4d93-40a4-e19d-e2cda8bd2b5c"
   },
   "outputs": [
    {
     "data": {
      "text/plain": [
       "{'01100001': 'a',\n",
       " '01100010': 'b',\n",
       " '01100011': 'c',\n",
       " '01100100': 'd',\n",
       " '01100101': 'e',\n",
       " '01100110': 'f',\n",
       " '01100111': 'g',\n",
       " '01101000': 'h',\n",
       " '01101001': 'i',\n",
       " '01101010': 'j',\n",
       " '01101011': 'k',\n",
       " '01101100': 'l',\n",
       " '01101101': 'm',\n",
       " '01101110': 'n',\n",
       " '01101111': 'o',\n",
       " '01110000': 'p',\n",
       " '01110001': 'q',\n",
       " '01110010': 'r',\n",
       " '01110011': 's',\n",
       " '01110100': 't',\n",
       " '01110101': 'u',\n",
       " '01110110': 'v',\n",
       " '01110111': 'w',\n",
       " '01111000': 'x',\n",
       " '01111001': 'y',\n",
       " '01111010': 'z'}"
      ]
     },
     "execution_count": 99,
     "metadata": {},
     "output_type": "execute_result"
    }
   ],
   "source": [
    "dict_bin_text = make_dict_bin_text()\n",
    "dict_bin_text"
   ]
  },
  {
   "cell_type": "markdown",
   "metadata": {
    "id": "AeOa8XfpjFHv"
   },
   "source": [
    "## Q6 (2 points)\n",
    "\n",
    "Now that you have this dictionary, you can go ahead and decode the message stored in \"clean_message\". For this purpose, write a function, called \"decode\", that takes in the message and returns a string that decodes and **joins** the individual characters present in the \"clean_message\" variable. For decoding, use the dict_bin_text from the previous step. Refer to the sample output.\n",
    "\n",
    "**Note:** The length of the decoded string should be the same as the length of the clean_message list."
   ]
  },
  {
   "cell_type": "code",
   "execution_count": 102,
   "metadata": {
    "id": "xrIM8sJdScQ9"
   },
   "outputs": [],
   "source": [
    "def decode(clean_message):\n",
    "    return ''.join([dict_bin_text[letter] for letter in clean_message])"
   ]
  },
  {
   "cell_type": "code",
   "execution_count": 103,
   "metadata": {
    "id": "P7c46Lz-UYUw"
   },
   "outputs": [
    {
     "data": {
      "text/plain": [
       "'ecddcecddfefa'"
      ]
     },
     "execution_count": 103,
     "metadata": {},
     "output_type": "execute_result"
    }
   ],
   "source": [
    "decoded_message = decode(clean_message)\n",
    "decoded_message"
   ]
  },
  {
   "cell_type": "markdown",
   "metadata": {
    "id": "h4Wx7lk7J1LO"
   },
   "source": [
    "<hr>\n",
    "\n",
    "*** the decoded message is hidden intentionally; you'll need to figure out which file you should use yourself. :) ***\n",
    "\n",
    "<hr>\n",
    "**Nick Fury**: What is this?..some name?..some file?..some ID? What is this? \n",
    "\n",
    "**Maria**: I've just searched it in our database, Colonel! There is a file matching this name in our data folder. Go ahead and open it.\n",
    "\n",
    "**Refer to the data folder attached to the assignment; make sure it's saved under the same directory as this notebook file**"
   ]
  },
  {
   "cell_type": "markdown",
   "metadata": {
    "id": "OZNCkwWnWcfd"
   },
   "source": [
    "**To all the readers**:\n",
    "*Turns out Nick Fury got his hands on a secret file with statistics of all the super heros (yes, super villans as well!) in the universe. He wants to know where his army stands, which will help him prepare to keep the universe safe. The council won't allow Fury to work on the file questioning the legitimacy of the file.*\n"
   ]
  },
  {
   "cell_type": "code",
   "execution_count": null,
   "metadata": {
    "colab": {
     "base_uri": "https://localhost:8080/",
     "height": 394
    },
    "id": "v9LwuUcbtInd",
    "outputId": "a33babf0-b0cb-4f9f-ce04-2f90f5489a70"
   },
   "outputs": [
    {
     "data": {
      "text/html": [
       "<div>\n",
       "<style scoped>\n",
       "    .dataframe tbody tr th:only-of-type {\n",
       "        vertical-align: middle;\n",
       "    }\n",
       "\n",
       "    .dataframe tbody tr th {\n",
       "        vertical-align: top;\n",
       "    }\n",
       "\n",
       "    .dataframe thead th {\n",
       "        text-align: right;\n",
       "    }\n",
       "</style>\n",
       "<table border=\"1\" class=\"dataframe\">\n",
       "  <thead>\n",
       "    <tr style=\"text-align: right;\">\n",
       "      <th></th>\n",
       "      <th>Alignment</th>\n",
       "      <th>Intelligence</th>\n",
       "      <th>Strength</th>\n",
       "      <th>Speed</th>\n",
       "      <th>Durability</th>\n",
       "      <th>Power</th>\n",
       "      <th>Combat</th>\n",
       "      <th>Total</th>\n",
       "    </tr>\n",
       "    <tr>\n",
       "      <th>Name</th>\n",
       "      <th></th>\n",
       "      <th></th>\n",
       "      <th></th>\n",
       "      <th></th>\n",
       "      <th></th>\n",
       "      <th></th>\n",
       "      <th></th>\n",
       "      <th></th>\n",
       "    </tr>\n",
       "  </thead>\n",
       "  <tbody>\n",
       "    <tr>\n",
       "      <td>3-D Man</td>\n",
       "      <td>good</td>\n",
       "      <td>50</td>\n",
       "      <td>31</td>\n",
       "      <td>43</td>\n",
       "      <td>32</td>\n",
       "      <td>25</td>\n",
       "      <td>52</td>\n",
       "      <td>233</td>\n",
       "    </tr>\n",
       "    <tr>\n",
       "      <td>A-Bomb</td>\n",
       "      <td>good</td>\n",
       "      <td>38</td>\n",
       "      <td>100</td>\n",
       "      <td>17</td>\n",
       "      <td>80</td>\n",
       "      <td>17</td>\n",
       "      <td>64</td>\n",
       "      <td>316</td>\n",
       "    </tr>\n",
       "    <tr>\n",
       "      <td>Abe Sapien</td>\n",
       "      <td>good</td>\n",
       "      <td>88</td>\n",
       "      <td>14</td>\n",
       "      <td>35</td>\n",
       "      <td>42</td>\n",
       "      <td>35</td>\n",
       "      <td>85</td>\n",
       "      <td>299</td>\n",
       "    </tr>\n",
       "    <tr>\n",
       "      <td>Abin Sur</td>\n",
       "      <td>good</td>\n",
       "      <td>50</td>\n",
       "      <td>90</td>\n",
       "      <td>53</td>\n",
       "      <td>64</td>\n",
       "      <td>84</td>\n",
       "      <td>65</td>\n",
       "      <td>406</td>\n",
       "    </tr>\n",
       "    <tr>\n",
       "      <td>Abomination</td>\n",
       "      <td>bad</td>\n",
       "      <td>63</td>\n",
       "      <td>80</td>\n",
       "      <td>53</td>\n",
       "      <td>90</td>\n",
       "      <td>55</td>\n",
       "      <td>95</td>\n",
       "      <td>436</td>\n",
       "    </tr>\n",
       "  </tbody>\n",
       "</table>\n",
       "</div>"
      ],
      "text/plain": [
       "            Alignment  Intelligence  Strength  Speed  Durability  Power  \\\n",
       "Name                                                                      \n",
       "3-D Man          good            50        31     43          32     25   \n",
       "A-Bomb           good            38       100     17          80     17   \n",
       "Abe Sapien       good            88        14     35          42     35   \n",
       "Abin Sur         good            50        90     53          64     84   \n",
       "Abomination       bad            63        80     53          90     55   \n",
       "\n",
       "             Combat  Total  \n",
       "Name                        \n",
       "3-D Man          52    233  \n",
       "A-Bomb           64    316  \n",
       "Abe Sapien       85    299  \n",
       "Abin Sur         65    406  \n",
       "Abomination      95    436  "
      ]
     },
     "execution_count": 52,
     "metadata": {
      "tags": []
     },
     "output_type": "execute_result"
    }
   ],
   "source": [
    "## sshhh! Go on have a sneak-peek at the file, which is in the data folder attached to the assignment"
   ]
  },
  {
   "cell_type": "markdown",
   "metadata": {
    "id": "5gNkBdpLtInj"
   },
   "source": [
    "**But first make necessary imports**"
   ]
  },
  {
   "cell_type": "code",
   "execution_count": 104,
   "metadata": {
    "id": "_2nhygoktInj"
   },
   "outputs": [],
   "source": [
    "import pandas as pd\n",
    "import numpy as np"
   ]
  },
  {
   "cell_type": "markdown",
   "metadata": {
    "id": "7zGucayNtInn"
   },
   "source": [
    "<center> <h1> Part 2: Dr. Banner Works with DataFrames </h1></center>\n",
    "\n",
    "Fury asks Dr. Banner to help him with the file and filter out results for his army. In particular, he is interested in <i><b>Intelligence</b></i> and <b><i>Combat</i></b>, but he asks Banner to work on all the data for now."
   ]
  },
  {
   "cell_type": "markdown",
   "metadata": {
    "id": "3zfUbX48tInn"
   },
   "source": [
    "### Q7 (2 points)\n",
    "\n",
    "- Write a function 'read_secret_file' that takes in the filename and name of the column that will be used as the index.\n",
    "- The function reads the file into a dataframe and sets the index of the dataframe based on the second argument.\n",
    "- Then returns the dataframe. \n",
    "- Note that **decoded_message** gives you the name of the file but it doesn't include the file extension, .csv, or the file path (it's under the data folder that should be saved in the same directory as this notebook file). Therefore your function should first specify the filename and its path properly before attempting to open it.\n",
    "\n",
    "Refer to the sample function call below."
   ]
  },
  {
   "cell_type": "code",
   "execution_count": 111,
   "metadata": {
    "id": "fw6mm3pXk9Ry"
   },
   "outputs": [],
   "source": [
    "def read_secret_file(file_name, index_col):\n",
    "    return pd.read_csv(\"data/\"+ file_name + \".csv\", index_col=index_col)"
   ]
  },
  {
   "cell_type": "code",
   "execution_count": 112,
   "metadata": {
    "id": "54nziycItInr"
   },
   "outputs": [],
   "source": [
    "df_data = read_secret_file(decoded_message, \"Name\")"
   ]
  },
  {
   "cell_type": "code",
   "execution_count": 113,
   "metadata": {
    "id": "go7-U1i3k9Rz",
    "outputId": "ad05ad55-0b08-4683-f375-0dd1225b28bb"
   },
   "outputs": [
    {
     "data": {
      "text/html": [
       "<div>\n",
       "<style scoped>\n",
       "    .dataframe tbody tr th:only-of-type {\n",
       "        vertical-align: middle;\n",
       "    }\n",
       "\n",
       "    .dataframe tbody tr th {\n",
       "        vertical-align: top;\n",
       "    }\n",
       "\n",
       "    .dataframe thead th {\n",
       "        text-align: right;\n",
       "    }\n",
       "</style>\n",
       "<table border=\"1\" class=\"dataframe\">\n",
       "  <thead>\n",
       "    <tr style=\"text-align: right;\">\n",
       "      <th></th>\n",
       "      <th>Alignment</th>\n",
       "      <th>Intelligence</th>\n",
       "      <th>Strength</th>\n",
       "      <th>Speed</th>\n",
       "      <th>Durability</th>\n",
       "      <th>Power</th>\n",
       "      <th>Combat</th>\n",
       "      <th>Total</th>\n",
       "    </tr>\n",
       "    <tr>\n",
       "      <th>Name</th>\n",
       "      <th></th>\n",
       "      <th></th>\n",
       "      <th></th>\n",
       "      <th></th>\n",
       "      <th></th>\n",
       "      <th></th>\n",
       "      <th></th>\n",
       "      <th></th>\n",
       "    </tr>\n",
       "  </thead>\n",
       "  <tbody>\n",
       "    <tr>\n",
       "      <th>3-D Man</th>\n",
       "      <td>good</td>\n",
       "      <td>50</td>\n",
       "      <td>31</td>\n",
       "      <td>43</td>\n",
       "      <td>32</td>\n",
       "      <td>25</td>\n",
       "      <td>52</td>\n",
       "      <td>233</td>\n",
       "    </tr>\n",
       "    <tr>\n",
       "      <th>A-Bomb</th>\n",
       "      <td>good</td>\n",
       "      <td>38</td>\n",
       "      <td>100</td>\n",
       "      <td>17</td>\n",
       "      <td>80</td>\n",
       "      <td>17</td>\n",
       "      <td>64</td>\n",
       "      <td>316</td>\n",
       "    </tr>\n",
       "    <tr>\n",
       "      <th>Abe Sapien</th>\n",
       "      <td>good</td>\n",
       "      <td>88</td>\n",
       "      <td>14</td>\n",
       "      <td>35</td>\n",
       "      <td>42</td>\n",
       "      <td>35</td>\n",
       "      <td>85</td>\n",
       "      <td>299</td>\n",
       "    </tr>\n",
       "    <tr>\n",
       "      <th>Abin Sur</th>\n",
       "      <td>good</td>\n",
       "      <td>50</td>\n",
       "      <td>90</td>\n",
       "      <td>53</td>\n",
       "      <td>64</td>\n",
       "      <td>84</td>\n",
       "      <td>65</td>\n",
       "      <td>406</td>\n",
       "    </tr>\n",
       "    <tr>\n",
       "      <th>Abomination</th>\n",
       "      <td>bad</td>\n",
       "      <td>63</td>\n",
       "      <td>80</td>\n",
       "      <td>53</td>\n",
       "      <td>90</td>\n",
       "      <td>55</td>\n",
       "      <td>95</td>\n",
       "      <td>436</td>\n",
       "    </tr>\n",
       "    <tr>\n",
       "      <th>...</th>\n",
       "      <td>...</td>\n",
       "      <td>...</td>\n",
       "      <td>...</td>\n",
       "      <td>...</td>\n",
       "      <td>...</td>\n",
       "      <td>...</td>\n",
       "      <td>...</td>\n",
       "      <td>...</td>\n",
       "    </tr>\n",
       "    <tr>\n",
       "      <th>Yellowjacket</th>\n",
       "      <td>good</td>\n",
       "      <td>88</td>\n",
       "      <td>10</td>\n",
       "      <td>12</td>\n",
       "      <td>28</td>\n",
       "      <td>12</td>\n",
       "      <td>14</td>\n",
       "      <td>164</td>\n",
       "    </tr>\n",
       "    <tr>\n",
       "      <th>Yellowjacket II</th>\n",
       "      <td>good</td>\n",
       "      <td>50</td>\n",
       "      <td>10</td>\n",
       "      <td>35</td>\n",
       "      <td>28</td>\n",
       "      <td>31</td>\n",
       "      <td>28</td>\n",
       "      <td>182</td>\n",
       "    </tr>\n",
       "    <tr>\n",
       "      <th>Ymir</th>\n",
       "      <td>good</td>\n",
       "      <td>50</td>\n",
       "      <td>100</td>\n",
       "      <td>27</td>\n",
       "      <td>100</td>\n",
       "      <td>83</td>\n",
       "      <td>28</td>\n",
       "      <td>388</td>\n",
       "    </tr>\n",
       "    <tr>\n",
       "      <th>Zatanna</th>\n",
       "      <td>good</td>\n",
       "      <td>75</td>\n",
       "      <td>10</td>\n",
       "      <td>23</td>\n",
       "      <td>28</td>\n",
       "      <td>100</td>\n",
       "      <td>56</td>\n",
       "      <td>292</td>\n",
       "    </tr>\n",
       "    <tr>\n",
       "      <th>Zoom</th>\n",
       "      <td>bad</td>\n",
       "      <td>50</td>\n",
       "      <td>10</td>\n",
       "      <td>100</td>\n",
       "      <td>28</td>\n",
       "      <td>72</td>\n",
       "      <td>28</td>\n",
       "      <td>288</td>\n",
       "    </tr>\n",
       "  </tbody>\n",
       "</table>\n",
       "<p>611 rows × 8 columns</p>\n",
       "</div>"
      ],
      "text/plain": [
       "                Alignment  Intelligence  Strength  Speed  Durability  Power  \\\n",
       "Name                                                                          \n",
       "3-D Man              good            50        31     43          32     25   \n",
       "A-Bomb               good            38       100     17          80     17   \n",
       "Abe Sapien           good            88        14     35          42     35   \n",
       "Abin Sur             good            50        90     53          64     84   \n",
       "Abomination           bad            63        80     53          90     55   \n",
       "...                   ...           ...       ...    ...         ...    ...   \n",
       "Yellowjacket         good            88        10     12          28     12   \n",
       "Yellowjacket II      good            50        10     35          28     31   \n",
       "Ymir                 good            50       100     27         100     83   \n",
       "Zatanna              good            75        10     23          28    100   \n",
       "Zoom                  bad            50        10    100          28     72   \n",
       "\n",
       "                 Combat  Total  \n",
       "Name                            \n",
       "3-D Man              52    233  \n",
       "A-Bomb               64    316  \n",
       "Abe Sapien           85    299  \n",
       "Abin Sur             65    406  \n",
       "Abomination          95    436  \n",
       "...                 ...    ...  \n",
       "Yellowjacket         14    164  \n",
       "Yellowjacket II      28    182  \n",
       "Ymir                 28    388  \n",
       "Zatanna              56    292  \n",
       "Zoom                 28    288  \n",
       "\n",
       "[611 rows x 8 columns]"
      ]
     },
     "execution_count": 113,
     "metadata": {},
     "output_type": "execute_result"
    }
   ],
   "source": [
    "df_data"
   ]
  },
  {
   "cell_type": "markdown",
   "metadata": {
    "id": "SQ13xc8itInu"
   },
   "source": [
    "### Q8 (2 points)\n",
    "Oh, dear... Working on a secret stressful project, Banner turns into Hulk, which Fury didn't expect. <br>\n",
    "\n",
    "Go on <i>smash</i> the dataframe.\n",
    "\n",
    "- Write a function 'get_marvel_characters' to select Marvel Universe characters from the dataframe, mcu_characters, which is provided below.\n",
    "- The function should take in the above dataframe and the mcu_characters list as parameters.\n",
    "- The function should return a new dataframe containing the data about the Marvel characters provided in the list. Refer to the sample output below."
   ]
  },
  {
   "cell_type": "code",
   "execution_count": 115,
   "metadata": {
    "id": "x01KpW_-tInu"
   },
   "outputs": [],
   "source": [
    "#here is the list of characters to be selected\n",
    "mcu_characters = [\n",
    "    'Ant-Man', 'Black Panther', 'Black Widow', 'Captain America', 'Captain Marvel', 'Daredevil',\n",
    "    'Deadpool', 'Doctor Strange', 'Groot', 'Iron Man', 'Hawkeye', 'Hulk', 'Loki', 'Nick Fury', 'Red Skull',\n",
    "    'Rocket Raccoon', 'Spider-Man', 'Thor', 'Thanos', 'Ultron', 'Violet', 'Vision', 'War Machine', 'Wasp'\n",
    "]"
   ]
  },
  {
   "cell_type": "code",
   "execution_count": 117,
   "metadata": {
    "id": "w0GWQugAtIny"
   },
   "outputs": [],
   "source": [
    "def get_marvel_characters(df, filtering_list):\n",
    "    return df.loc[filtering_list]"
   ]
  },
  {
   "cell_type": "code",
   "execution_count": 118,
   "metadata": {
    "colab": {
     "base_uri": "https://localhost:8080/",
     "height": 832
    },
    "id": "a2x5VcIfFaUC",
    "outputId": "bd0d64ec-0e91-498a-dcf3-55c89fcbaa0d"
   },
   "outputs": [
    {
     "data": {
      "text/html": [
       "<div>\n",
       "<style scoped>\n",
       "    .dataframe tbody tr th:only-of-type {\n",
       "        vertical-align: middle;\n",
       "    }\n",
       "\n",
       "    .dataframe tbody tr th {\n",
       "        vertical-align: top;\n",
       "    }\n",
       "\n",
       "    .dataframe thead th {\n",
       "        text-align: right;\n",
       "    }\n",
       "</style>\n",
       "<table border=\"1\" class=\"dataframe\">\n",
       "  <thead>\n",
       "    <tr style=\"text-align: right;\">\n",
       "      <th></th>\n",
       "      <th>Alignment</th>\n",
       "      <th>Intelligence</th>\n",
       "      <th>Strength</th>\n",
       "      <th>Speed</th>\n",
       "      <th>Durability</th>\n",
       "      <th>Power</th>\n",
       "      <th>Combat</th>\n",
       "      <th>Total</th>\n",
       "    </tr>\n",
       "    <tr>\n",
       "      <th>Name</th>\n",
       "      <th></th>\n",
       "      <th></th>\n",
       "      <th></th>\n",
       "      <th></th>\n",
       "      <th></th>\n",
       "      <th></th>\n",
       "      <th></th>\n",
       "      <th></th>\n",
       "    </tr>\n",
       "  </thead>\n",
       "  <tbody>\n",
       "    <tr>\n",
       "      <th>Ant-Man</th>\n",
       "      <td>good</td>\n",
       "      <td>100</td>\n",
       "      <td>10</td>\n",
       "      <td>23</td>\n",
       "      <td>28</td>\n",
       "      <td>32</td>\n",
       "      <td>32</td>\n",
       "      <td>225</td>\n",
       "    </tr>\n",
       "    <tr>\n",
       "      <th>Black Panther</th>\n",
       "      <td>good</td>\n",
       "      <td>88</td>\n",
       "      <td>16</td>\n",
       "      <td>30</td>\n",
       "      <td>60</td>\n",
       "      <td>41</td>\n",
       "      <td>100</td>\n",
       "      <td>335</td>\n",
       "    </tr>\n",
       "    <tr>\n",
       "      <th>Black Widow</th>\n",
       "      <td>good</td>\n",
       "      <td>100</td>\n",
       "      <td>60</td>\n",
       "      <td>90</td>\n",
       "      <td>80</td>\n",
       "      <td>89</td>\n",
       "      <td>100</td>\n",
       "      <td>519</td>\n",
       "    </tr>\n",
       "    <tr>\n",
       "      <th>Captain America</th>\n",
       "      <td>good</td>\n",
       "      <td>63</td>\n",
       "      <td>19</td>\n",
       "      <td>35</td>\n",
       "      <td>56</td>\n",
       "      <td>46</td>\n",
       "      <td>100</td>\n",
       "      <td>319</td>\n",
       "    </tr>\n",
       "    <tr>\n",
       "      <th>Captain Marvel</th>\n",
       "      <td>good</td>\n",
       "      <td>100</td>\n",
       "      <td>100</td>\n",
       "      <td>67</td>\n",
       "      <td>95</td>\n",
       "      <td>62</td>\n",
       "      <td>56</td>\n",
       "      <td>480</td>\n",
       "    </tr>\n",
       "    <tr>\n",
       "      <th>Daredevil</th>\n",
       "      <td>good</td>\n",
       "      <td>75</td>\n",
       "      <td>13</td>\n",
       "      <td>27</td>\n",
       "      <td>28</td>\n",
       "      <td>57</td>\n",
       "      <td>95</td>\n",
       "      <td>295</td>\n",
       "    </tr>\n",
       "    <tr>\n",
       "      <th>Deadpool</th>\n",
       "      <td>neutral</td>\n",
       "      <td>50</td>\n",
       "      <td>15</td>\n",
       "      <td>30</td>\n",
       "      <td>100</td>\n",
       "      <td>100</td>\n",
       "      <td>100</td>\n",
       "      <td>395</td>\n",
       "    </tr>\n",
       "    <tr>\n",
       "      <th>Doctor Strange</th>\n",
       "      <td>good</td>\n",
       "      <td>100</td>\n",
       "      <td>10</td>\n",
       "      <td>12</td>\n",
       "      <td>84</td>\n",
       "      <td>100</td>\n",
       "      <td>60</td>\n",
       "      <td>366</td>\n",
       "    </tr>\n",
       "    <tr>\n",
       "      <th>Groot</th>\n",
       "      <td>good</td>\n",
       "      <td>75</td>\n",
       "      <td>85</td>\n",
       "      <td>33</td>\n",
       "      <td>70</td>\n",
       "      <td>92</td>\n",
       "      <td>64</td>\n",
       "      <td>419</td>\n",
       "    </tr>\n",
       "    <tr>\n",
       "      <th>Iron Man</th>\n",
       "      <td>good</td>\n",
       "      <td>100</td>\n",
       "      <td>85</td>\n",
       "      <td>58</td>\n",
       "      <td>85</td>\n",
       "      <td>100</td>\n",
       "      <td>64</td>\n",
       "      <td>492</td>\n",
       "    </tr>\n",
       "    <tr>\n",
       "      <th>Hawkeye</th>\n",
       "      <td>good</td>\n",
       "      <td>50</td>\n",
       "      <td>12</td>\n",
       "      <td>23</td>\n",
       "      <td>14</td>\n",
       "      <td>26</td>\n",
       "      <td>80</td>\n",
       "      <td>205</td>\n",
       "    </tr>\n",
       "    <tr>\n",
       "      <th>Hulk</th>\n",
       "      <td>good</td>\n",
       "      <td>88</td>\n",
       "      <td>100</td>\n",
       "      <td>47</td>\n",
       "      <td>100</td>\n",
       "      <td>41</td>\n",
       "      <td>85</td>\n",
       "      <td>461</td>\n",
       "    </tr>\n",
       "    <tr>\n",
       "      <th>Loki</th>\n",
       "      <td>bad</td>\n",
       "      <td>88</td>\n",
       "      <td>57</td>\n",
       "      <td>47</td>\n",
       "      <td>85</td>\n",
       "      <td>85</td>\n",
       "      <td>56</td>\n",
       "      <td>418</td>\n",
       "    </tr>\n",
       "    <tr>\n",
       "      <th>Nick Fury</th>\n",
       "      <td>good</td>\n",
       "      <td>75</td>\n",
       "      <td>11</td>\n",
       "      <td>23</td>\n",
       "      <td>42</td>\n",
       "      <td>25</td>\n",
       "      <td>100</td>\n",
       "      <td>276</td>\n",
       "    </tr>\n",
       "    <tr>\n",
       "      <th>Red Skull</th>\n",
       "      <td>bad</td>\n",
       "      <td>75</td>\n",
       "      <td>10</td>\n",
       "      <td>12</td>\n",
       "      <td>14</td>\n",
       "      <td>19</td>\n",
       "      <td>80</td>\n",
       "      <td>210</td>\n",
       "    </tr>\n",
       "    <tr>\n",
       "      <th>Rocket Raccoon</th>\n",
       "      <td>good</td>\n",
       "      <td>50</td>\n",
       "      <td>5</td>\n",
       "      <td>23</td>\n",
       "      <td>28</td>\n",
       "      <td>28</td>\n",
       "      <td>64</td>\n",
       "      <td>198</td>\n",
       "    </tr>\n",
       "    <tr>\n",
       "      <th>Spider-Man</th>\n",
       "      <td>good</td>\n",
       "      <td>88</td>\n",
       "      <td>55</td>\n",
       "      <td>60</td>\n",
       "      <td>74</td>\n",
       "      <td>58</td>\n",
       "      <td>85</td>\n",
       "      <td>420</td>\n",
       "    </tr>\n",
       "    <tr>\n",
       "      <th>Thor</th>\n",
       "      <td>good</td>\n",
       "      <td>69</td>\n",
       "      <td>100</td>\n",
       "      <td>92</td>\n",
       "      <td>100</td>\n",
       "      <td>100</td>\n",
       "      <td>85</td>\n",
       "      <td>546</td>\n",
       "    </tr>\n",
       "    <tr>\n",
       "      <th>Thanos</th>\n",
       "      <td>bad</td>\n",
       "      <td>88</td>\n",
       "      <td>100</td>\n",
       "      <td>17</td>\n",
       "      <td>100</td>\n",
       "      <td>100</td>\n",
       "      <td>80</td>\n",
       "      <td>485</td>\n",
       "    </tr>\n",
       "    <tr>\n",
       "      <th>Ultron</th>\n",
       "      <td>bad</td>\n",
       "      <td>88</td>\n",
       "      <td>83</td>\n",
       "      <td>42</td>\n",
       "      <td>100</td>\n",
       "      <td>100</td>\n",
       "      <td>64</td>\n",
       "      <td>477</td>\n",
       "    </tr>\n",
       "    <tr>\n",
       "      <th>Violet</th>\n",
       "      <td>good</td>\n",
       "      <td>10</td>\n",
       "      <td>4</td>\n",
       "      <td>12</td>\n",
       "      <td>28</td>\n",
       "      <td>65</td>\n",
       "      <td>14</td>\n",
       "      <td>133</td>\n",
       "    </tr>\n",
       "    <tr>\n",
       "      <th>Vision</th>\n",
       "      <td>good</td>\n",
       "      <td>100</td>\n",
       "      <td>72</td>\n",
       "      <td>54</td>\n",
       "      <td>95</td>\n",
       "      <td>76</td>\n",
       "      <td>70</td>\n",
       "      <td>467</td>\n",
       "    </tr>\n",
       "    <tr>\n",
       "      <th>War Machine</th>\n",
       "      <td>good</td>\n",
       "      <td>63</td>\n",
       "      <td>80</td>\n",
       "      <td>63</td>\n",
       "      <td>100</td>\n",
       "      <td>100</td>\n",
       "      <td>85</td>\n",
       "      <td>491</td>\n",
       "    </tr>\n",
       "    <tr>\n",
       "      <th>Wasp</th>\n",
       "      <td>good</td>\n",
       "      <td>63</td>\n",
       "      <td>8</td>\n",
       "      <td>58</td>\n",
       "      <td>52</td>\n",
       "      <td>23</td>\n",
       "      <td>42</td>\n",
       "      <td>246</td>\n",
       "    </tr>\n",
       "  </tbody>\n",
       "</table>\n",
       "</div>"
      ],
      "text/plain": [
       "                Alignment  Intelligence  Strength  Speed  Durability  Power  \\\n",
       "Name                                                                          \n",
       "Ant-Man              good           100        10     23          28     32   \n",
       "Black Panther        good            88        16     30          60     41   \n",
       "Black Widow          good           100        60     90          80     89   \n",
       "Captain America      good            63        19     35          56     46   \n",
       "Captain Marvel       good           100       100     67          95     62   \n",
       "Daredevil            good            75        13     27          28     57   \n",
       "Deadpool          neutral            50        15     30         100    100   \n",
       "Doctor Strange       good           100        10     12          84    100   \n",
       "Groot                good            75        85     33          70     92   \n",
       "Iron Man             good           100        85     58          85    100   \n",
       "Hawkeye              good            50        12     23          14     26   \n",
       "Hulk                 good            88       100     47         100     41   \n",
       "Loki                  bad            88        57     47          85     85   \n",
       "Nick Fury            good            75        11     23          42     25   \n",
       "Red Skull             bad            75        10     12          14     19   \n",
       "Rocket Raccoon       good            50         5     23          28     28   \n",
       "Spider-Man           good            88        55     60          74     58   \n",
       "Thor                 good            69       100     92         100    100   \n",
       "Thanos                bad            88       100     17         100    100   \n",
       "Ultron                bad            88        83     42         100    100   \n",
       "Violet               good            10         4     12          28     65   \n",
       "Vision               good           100        72     54          95     76   \n",
       "War Machine          good            63        80     63         100    100   \n",
       "Wasp                 good            63         8     58          52     23   \n",
       "\n",
       "                 Combat  Total  \n",
       "Name                            \n",
       "Ant-Man              32    225  \n",
       "Black Panther       100    335  \n",
       "Black Widow         100    519  \n",
       "Captain America     100    319  \n",
       "Captain Marvel       56    480  \n",
       "Daredevil            95    295  \n",
       "Deadpool            100    395  \n",
       "Doctor Strange       60    366  \n",
       "Groot                64    419  \n",
       "Iron Man             64    492  \n",
       "Hawkeye              80    205  \n",
       "Hulk                 85    461  \n",
       "Loki                 56    418  \n",
       "Nick Fury           100    276  \n",
       "Red Skull            80    210  \n",
       "Rocket Raccoon       64    198  \n",
       "Spider-Man           85    420  \n",
       "Thor                 85    546  \n",
       "Thanos               80    485  \n",
       "Ultron               64    477  \n",
       "Violet               14    133  \n",
       "Vision               70    467  \n",
       "War Machine          85    491  \n",
       "Wasp                 42    246  "
      ]
     },
     "execution_count": 118,
     "metadata": {},
     "output_type": "execute_result"
    }
   ],
   "source": [
    "df_marvel_only = get_marvel_characters(df_data, mcu_characters)\n",
    "df_marvel_only"
   ]
  },
  {
   "cell_type": "markdown",
   "metadata": {
    "id": "sEoy_VIntIn_"
   },
   "source": [
    "### Q9 (2 points)\n",
    "Fury wants to be able to look up a character's given power. For this purpose, write a function that takes a character's name and the name of the power and returns the corresponding value from the df_marvel_only dataframe."
   ]
  },
  {
   "cell_type": "code",
   "execution_count": 120,
   "metadata": {
    "id": "SOpgSy4NFaUE"
   },
   "outputs": [],
   "source": [
    "def lookup_character_power(character, power):\n",
    "    return df_marvel_only.loc[character][power]"
   ]
  },
  {
   "cell_type": "code",
   "execution_count": 121,
   "metadata": {
    "colab": {
     "base_uri": "https://localhost:8080/",
     "height": 34
    },
    "id": "8Wl9NlIeFaUG",
    "outputId": "8c8832d7-cae4-4ca9-cd71-757be97632a5"
   },
   "outputs": [
    {
     "data": {
      "text/plain": [
       "519"
      ]
     },
     "execution_count": 121,
     "metadata": {},
     "output_type": "execute_result"
    }
   ],
   "source": [
    "lookup_character_power(\"Black Widow\", \"Total\")"
   ]
  },
  {
   "cell_type": "markdown",
   "metadata": {
    "id": "NCTfzPqEFaUH"
   },
   "source": [
    "### Q10 (2 points)\n",
    "Write a one-line code snippet that returns the number of characters whose Alignment is bad; that is, the villains, from the df_marvel_only dataframe."
   ]
  },
  {
   "cell_type": "code",
   "execution_count": 123,
   "metadata": {
    "colab": {
     "base_uri": "https://localhost:8080/",
     "height": 34
    },
    "id": "We0ZFb-cFaUI",
    "outputId": "872a1642-93bb-49f2-e841-832466d91c8d"
   },
   "outputs": [
    {
     "data": {
      "text/plain": [
       "4"
      ]
     },
     "execution_count": 123,
     "metadata": {},
     "output_type": "execute_result"
    }
   ],
   "source": [
    "df_marvel_only['Alignment'].value_counts()['bad']"
   ]
  },
  {
   "cell_type": "markdown",
   "metadata": {
    "id": "c-a23f8NFaUJ"
   },
   "source": [
    "### Q11 (1 points)\n",
    "Write a one-line code snippet that returns the average value of the powers among all characters in the dataframe."
   ]
  },
  {
   "cell_type": "code",
   "execution_count": 125,
   "metadata": {
    "colab": {
     "base_uri": "https://localhost:8080/",
     "height": 155
    },
    "id": "6RcjcY60FaUK",
    "outputId": "1f35724b-134f-4f2d-c16f-31b72381506f"
   },
   "outputs": [
    {
     "data": {
      "text/plain": [
       "Intelligence     76.916667\n",
       "Strength         46.250000\n",
       "Speed            40.750000\n",
       "Durability       67.416667\n",
       "Power            65.208333\n",
       "Combat           73.375000\n",
       "Total           369.916667\n",
       "dtype: float64"
      ]
     },
     "execution_count": 125,
     "metadata": {},
     "output_type": "execute_result"
    }
   ],
   "source": [
    "df_marvel_only.mean()"
   ]
  },
  {
   "cell_type": "markdown",
   "metadata": {
    "id": "yQ6B6qhqtIoK"
   },
   "source": [
    "### Q12 (2 points)\n",
    "Fury was right! Looking at the average values, Intelligence and Combat are the strongest areas. He wants to present these data to the council. \n",
    "\n",
    "Write a one-line code snippet that selects the 'Alignment', 'Intelligence' and 'Combat' columns and stores them in a new dataframe, df_final."
   ]
  },
  {
   "cell_type": "code",
   "execution_count": 127,
   "metadata": {
    "id": "DucKzZS6FaUM"
   },
   "outputs": [],
   "source": [
    "df_final = df_marvel_only[['Alignment', 'Intelligence', 'Combat']]"
   ]
  },
  {
   "cell_type": "code",
   "execution_count": 128,
   "metadata": {
    "colab": {
     "base_uri": "https://localhost:8080/",
     "height": 832
    },
    "id": "6doMCdtAFaUN",
    "outputId": "8ff73796-a7ef-4b44-fe0d-60266d67ad3e"
   },
   "outputs": [
    {
     "data": {
      "text/html": [
       "<div>\n",
       "<style scoped>\n",
       "    .dataframe tbody tr th:only-of-type {\n",
       "        vertical-align: middle;\n",
       "    }\n",
       "\n",
       "    .dataframe tbody tr th {\n",
       "        vertical-align: top;\n",
       "    }\n",
       "\n",
       "    .dataframe thead th {\n",
       "        text-align: right;\n",
       "    }\n",
       "</style>\n",
       "<table border=\"1\" class=\"dataframe\">\n",
       "  <thead>\n",
       "    <tr style=\"text-align: right;\">\n",
       "      <th></th>\n",
       "      <th>Alignment</th>\n",
       "      <th>Intelligence</th>\n",
       "      <th>Combat</th>\n",
       "    </tr>\n",
       "    <tr>\n",
       "      <th>Name</th>\n",
       "      <th></th>\n",
       "      <th></th>\n",
       "      <th></th>\n",
       "    </tr>\n",
       "  </thead>\n",
       "  <tbody>\n",
       "    <tr>\n",
       "      <th>Ant-Man</th>\n",
       "      <td>good</td>\n",
       "      <td>100</td>\n",
       "      <td>32</td>\n",
       "    </tr>\n",
       "    <tr>\n",
       "      <th>Black Panther</th>\n",
       "      <td>good</td>\n",
       "      <td>88</td>\n",
       "      <td>100</td>\n",
       "    </tr>\n",
       "    <tr>\n",
       "      <th>Black Widow</th>\n",
       "      <td>good</td>\n",
       "      <td>100</td>\n",
       "      <td>100</td>\n",
       "    </tr>\n",
       "    <tr>\n",
       "      <th>Captain America</th>\n",
       "      <td>good</td>\n",
       "      <td>63</td>\n",
       "      <td>100</td>\n",
       "    </tr>\n",
       "    <tr>\n",
       "      <th>Captain Marvel</th>\n",
       "      <td>good</td>\n",
       "      <td>100</td>\n",
       "      <td>56</td>\n",
       "    </tr>\n",
       "    <tr>\n",
       "      <th>Daredevil</th>\n",
       "      <td>good</td>\n",
       "      <td>75</td>\n",
       "      <td>95</td>\n",
       "    </tr>\n",
       "    <tr>\n",
       "      <th>Deadpool</th>\n",
       "      <td>neutral</td>\n",
       "      <td>50</td>\n",
       "      <td>100</td>\n",
       "    </tr>\n",
       "    <tr>\n",
       "      <th>Doctor Strange</th>\n",
       "      <td>good</td>\n",
       "      <td>100</td>\n",
       "      <td>60</td>\n",
       "    </tr>\n",
       "    <tr>\n",
       "      <th>Groot</th>\n",
       "      <td>good</td>\n",
       "      <td>75</td>\n",
       "      <td>64</td>\n",
       "    </tr>\n",
       "    <tr>\n",
       "      <th>Iron Man</th>\n",
       "      <td>good</td>\n",
       "      <td>100</td>\n",
       "      <td>64</td>\n",
       "    </tr>\n",
       "    <tr>\n",
       "      <th>Hawkeye</th>\n",
       "      <td>good</td>\n",
       "      <td>50</td>\n",
       "      <td>80</td>\n",
       "    </tr>\n",
       "    <tr>\n",
       "      <th>Hulk</th>\n",
       "      <td>good</td>\n",
       "      <td>88</td>\n",
       "      <td>85</td>\n",
       "    </tr>\n",
       "    <tr>\n",
       "      <th>Loki</th>\n",
       "      <td>bad</td>\n",
       "      <td>88</td>\n",
       "      <td>56</td>\n",
       "    </tr>\n",
       "    <tr>\n",
       "      <th>Nick Fury</th>\n",
       "      <td>good</td>\n",
       "      <td>75</td>\n",
       "      <td>100</td>\n",
       "    </tr>\n",
       "    <tr>\n",
       "      <th>Red Skull</th>\n",
       "      <td>bad</td>\n",
       "      <td>75</td>\n",
       "      <td>80</td>\n",
       "    </tr>\n",
       "    <tr>\n",
       "      <th>Rocket Raccoon</th>\n",
       "      <td>good</td>\n",
       "      <td>50</td>\n",
       "      <td>64</td>\n",
       "    </tr>\n",
       "    <tr>\n",
       "      <th>Spider-Man</th>\n",
       "      <td>good</td>\n",
       "      <td>88</td>\n",
       "      <td>85</td>\n",
       "    </tr>\n",
       "    <tr>\n",
       "      <th>Thor</th>\n",
       "      <td>good</td>\n",
       "      <td>69</td>\n",
       "      <td>85</td>\n",
       "    </tr>\n",
       "    <tr>\n",
       "      <th>Thanos</th>\n",
       "      <td>bad</td>\n",
       "      <td>88</td>\n",
       "      <td>80</td>\n",
       "    </tr>\n",
       "    <tr>\n",
       "      <th>Ultron</th>\n",
       "      <td>bad</td>\n",
       "      <td>88</td>\n",
       "      <td>64</td>\n",
       "    </tr>\n",
       "    <tr>\n",
       "      <th>Violet</th>\n",
       "      <td>good</td>\n",
       "      <td>10</td>\n",
       "      <td>14</td>\n",
       "    </tr>\n",
       "    <tr>\n",
       "      <th>Vision</th>\n",
       "      <td>good</td>\n",
       "      <td>100</td>\n",
       "      <td>70</td>\n",
       "    </tr>\n",
       "    <tr>\n",
       "      <th>War Machine</th>\n",
       "      <td>good</td>\n",
       "      <td>63</td>\n",
       "      <td>85</td>\n",
       "    </tr>\n",
       "    <tr>\n",
       "      <th>Wasp</th>\n",
       "      <td>good</td>\n",
       "      <td>63</td>\n",
       "      <td>42</td>\n",
       "    </tr>\n",
       "  </tbody>\n",
       "</table>\n",
       "</div>"
      ],
      "text/plain": [
       "                Alignment  Intelligence  Combat\n",
       "Name                                           \n",
       "Ant-Man              good           100      32\n",
       "Black Panther        good            88     100\n",
       "Black Widow          good           100     100\n",
       "Captain America      good            63     100\n",
       "Captain Marvel       good           100      56\n",
       "Daredevil            good            75      95\n",
       "Deadpool          neutral            50     100\n",
       "Doctor Strange       good           100      60\n",
       "Groot                good            75      64\n",
       "Iron Man             good           100      64\n",
       "Hawkeye              good            50      80\n",
       "Hulk                 good            88      85\n",
       "Loki                  bad            88      56\n",
       "Nick Fury            good            75     100\n",
       "Red Skull             bad            75      80\n",
       "Rocket Raccoon       good            50      64\n",
       "Spider-Man           good            88      85\n",
       "Thor                 good            69      85\n",
       "Thanos                bad            88      80\n",
       "Ultron                bad            88      64\n",
       "Violet               good            10      14\n",
       "Vision               good           100      70\n",
       "War Machine          good            63      85\n",
       "Wasp                 good            63      42"
      ]
     },
     "execution_count": 128,
     "metadata": {},
     "output_type": "execute_result"
    }
   ],
   "source": [
    "df_final"
   ]
  },
  {
   "cell_type": "markdown",
   "metadata": {
    "id": "iYEXMISstIoi"
   },
   "source": [
    "<h3><center> \n",
    "    That's it! Fury is super happy with all the work. He goes to the council with these results. <br>\n",
    "    \"I still believe in heros\" says Fury in conclusion.\n",
    "    </center>\n",
    "</h3>"
   ]
  }
 ],
 "metadata": {
  "colab": {
   "collapsed_sections": [],
   "name": "DS3000_HW1.ipynb",
   "provenance": [],
   "toc_visible": true
  },
  "kernelspec": {
   "display_name": "Python 3",
   "language": "python",
   "name": "python3"
  },
  "language_info": {
   "codemirror_mode": {
    "name": "ipython",
    "version": 3
   },
   "file_extension": ".py",
   "mimetype": "text/x-python",
   "name": "python",
   "nbconvert_exporter": "python",
   "pygments_lexer": "ipython3",
   "version": "3.8.5"
  }
 },
 "nbformat": 4,
 "nbformat_minor": 1
}
