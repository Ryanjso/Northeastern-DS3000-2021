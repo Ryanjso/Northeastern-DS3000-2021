{
 "cells": [
  {
   "cell_type": "markdown",
   "metadata": {
    "id": "Q_DsYOCuI9jU"
   },
   "source": [
    "<center>\n",
    "  <h1>DS3000</h1>\n",
    "  <h1>FLA1: Vectorized Operations - Numpy</h1>\n",
    "</center>\n",
    "\n",
    "This tutorial will focus on the vectorized operations in <b>numpy</b> package. At the end of the tutorial, you'll able to confidently answer the following questions:\n",
    "<ol>\n",
    "<li> What are vectorized operations?\n",
    "<li> How to use them?\n",
    "</ol>\n",
    "\n",
    "**Instructions:**\n",
    "- It is okay if you work with another person on this FLA. Each of you should individually submit the completed file (even if it's the same file). \n",
    "- Synchronous students will complete this FLA during the live session.\n",
    "- Asynchronous students will complete it by the deadline specified. If you want to collaborate with an asynchronous classmate, you will need to find them on your own (through discussion posts maybe).\n",
    "- Upload your completed Notebook to Google Colab (https://colab.research.google.com/notebooks/)\n",
    "- Get a shareable link to your Notebook on Colab\n",
    "    * Go to Share near the top-right corner of the screen.\n",
    "    * <font color='red'> **Make sure you select \"Anyone with the Link Can View\"** </font>\n",
    "    * Copy the link\n",
    "* Go to Canvas\n",
    "* **Upload your completed Jupyter Notebook through the Canvas FLA link.**\n",
    "* **Paste the link to your Colab Notebook in the Comments field.**\n",
    "* Both are required!\n",
    "<hr>\n",
    "\n"
   ]
  },
  {
   "cell_type": "markdown",
   "metadata": {
    "id": "-TwLMsgEo58M"
   },
   "source": [
    "<center> \n",
    "    <h2>Part 1: Array Operations</h2>\n",
    "</center>\n",
    "<hr>"
   ]
  },
  {
   "cell_type": "markdown",
   "metadata": {
    "id": "gDrLRu6wo58M"
   },
   "source": [
    "1. Write a code snippet to generate two 3x3 arrays, arr1 and arr2. The arrays should be randomly populated with numbers 1-5. Remember there is a method for this! Refer to the sample outputs below."
   ]
  },
  {
   "cell_type": "code",
   "execution_count": 1,
   "metadata": {
    "id": "gGxkY0ITo58N"
   },
   "outputs": [],
   "source": [
    "import numpy as np\n",
    "\n",
    "arr1 = np.random.randint(1,6,(3,3))\n",
    "arr2 = np.random.randint(1,6,(3,3))"
   ]
  },
  {
   "cell_type": "code",
   "execution_count": 2,
   "metadata": {
    "id": "I7Iogq4vo58N",
    "outputId": "7a21a3b7-f1c1-4a8c-e5cc-d59bad0d87e2"
   },
   "outputs": [
    {
     "data": {
      "text/plain": [
       "array([[3, 3, 3],\n",
       "       [1, 5, 5],\n",
       "       [5, 3, 3]])"
      ]
     },
     "execution_count": 2,
     "metadata": {},
     "output_type": "execute_result"
    }
   ],
   "source": [
    "arr1"
   ]
  },
  {
   "cell_type": "code",
   "execution_count": null,
   "metadata": {
    "id": "UBjCXi6vo58P",
    "outputId": "451eb122-2166-4523-900b-7aae3a28c3fa"
   },
   "outputs": [
    {
     "data": {
      "text/plain": [
       "array([[3, 2, 5],\n",
       "       [2, 1, 4],\n",
       "       [5, 3, 4]])"
      ]
     },
     "execution_count": 4,
     "metadata": {
      "tags": []
     },
     "output_type": "execute_result"
    }
   ],
   "source": [
    "arr2"
   ]
  },
  {
   "cell_type": "markdown",
   "metadata": {
    "id": "aLOmw6Ofo58P"
   },
   "source": [
    "2. Go ahead and **add** these two arrays using the addition operator (+) and store the result in the arr3 variable."
   ]
  },
  {
   "cell_type": "code",
   "execution_count": 3,
   "metadata": {
    "id": "UCNKV53ho58P"
   },
   "outputs": [
    {
     "data": {
      "text/plain": [
       "array([[4, 4, 6],\n",
       "       [6, 9, 8],\n",
       "       [6, 5, 5]])"
      ]
     },
     "execution_count": 3,
     "metadata": {},
     "output_type": "execute_result"
    }
   ],
   "source": [
    "arr3 = arr1 + arr2\n",
    "arr3"
   ]
  },
  {
   "cell_type": "markdown",
   "metadata": {
    "id": "qLZYaJ1qo58Q"
   },
   "source": [
    "3. Now go ahead and **multiply** these two arrays using the multiplication operator (*) and store the result in the arr4 variable."
   ]
  },
  {
   "cell_type": "code",
   "execution_count": 4,
   "metadata": {
    "id": "conrJTBlo58Q"
   },
   "outputs": [
    {
     "data": {
      "text/plain": [
       "array([[ 3,  3,  9],\n",
       "       [ 5, 20, 15],\n",
       "       [ 5,  6,  6]])"
      ]
     },
     "execution_count": 4,
     "metadata": {},
     "output_type": "execute_result"
    }
   ],
   "source": [
    "arr4 = arr1 * arr2\n",
    "arr4"
   ]
  },
  {
   "cell_type": "markdown",
   "metadata": {
    "id": "igigJZooo58Q"
   },
   "source": [
    "4. Based on arr3 and arr4, what can you conclude about array/matrix operations in Numpy? Type your answer below:"
   ]
  },
  {
   "cell_type": "code",
   "execution_count": null,
   "metadata": {
    "id": "EP5mUDYgo58Q"
   },
   "outputs": [],
   "source": [
    "#answer goes here."
   ]
  },
  {
   "cell_type": "markdown",
   "metadata": {
    "id": "ZfQ_mnAIo58R"
   },
   "source": [
    "<center> \n",
    "    <h2>Part 2: Vectorization Tutorial</h2>\n",
    "</center>\n",
    "<hr>"
   ]
  },
  {
   "cell_type": "markdown",
   "metadata": {
    "id": "Z6RgOGv_KIos"
   },
   "source": [
    "<h2> 1. Introduction </h2>\n",
    "Most of real life applications often deal with large amounts of data. So one can imagine how a computationally-suboptimal function can quickly become a bottleneck and result in high latency. \n",
    "\n",
    "In other words, non-optimal functions can steal away luster from your amazing code! There comes vectorization to save the day!\n",
    "\n",
    "So what is vectorization? \n",
    "<i><p><center>\"This practice of replacing explicit loops with array expressions is commonly referred to as vectorization. In general, vectorized array operations will often be one or two (or more) orders of magnitude faster than their pure Python equivalents, with the biggest impact [seen] in any kind of numerical computations.\" <br>~Wes McKinney (creator of Pandas package)</center></p></i>\n",
    "\n",
    "Simply put, it is a way to code stuff without using loop statements! It is the ability to express operations over the entire array than their individual elements!\n",
    "\n",
    "Let's look at some examples to further understand this."
   ]
  },
  {
   "cell_type": "markdown",
   "metadata": {
    "id": "sj9lQ9DTNMrc"
   },
   "source": [
    "<h2> 2. Examples </h2>\n",
    "\n",
    "To demonstrate this, we will follow a simple approach: time non-vectorized and vectorized operations.\n",
    "You are expected to write the non-vectorized code by following the instructions given in the corrosponding blocks.\n",
    "\n",
    "After every example, we'll check out the time differences.\n",
    "\n",
    "<hr>\n",
    "Note: Inferences are left as an exercise for the reader."
   ]
  },
  {
   "cell_type": "code",
   "execution_count": null,
   "metadata": {
    "id": "_jTcyRWXNch2"
   },
   "outputs": [],
   "source": [
    "import numpy as np\n",
    "import time"
   ]
  },
  {
   "cell_type": "markdown",
   "metadata": {
    "id": "AuXVPU97WbD7"
   },
   "source": [
    "<h3> 2.1 Square Root </h3>\n",
    "\n",
    "<b>Given</b> -> A 1-d matrix of size 10000 <br>\n",
    "<b>To-do</b> -> Calculate square root of the matrix\n",
    "\n",
    "Execute the following cell first."
   ]
  },
  {
   "cell_type": "code",
   "execution_count": null,
   "metadata": {
    "id": "xGOEP-U2WbZd"
   },
   "outputs": [],
   "source": [
    "data = np.random.randint(low = 1, high = 10000, size = 10000)\n",
    "data"
   ]
  },
  {
   "cell_type": "markdown",
   "metadata": {
    "id": "TrYEcmbRgGMs"
   },
   "source": [
    "<h4>2.1.1. Non-Vectorized approach</h4>"
   ]
  },
  {
   "cell_type": "code",
   "execution_count": null,
   "metadata": {
    "id": "DKWWBrEgXKF8"
   },
   "outputs": [],
   "source": [
    "'''\n",
    "Here we are going to calculate the square root of each element in the given array.\n",
    "Follow the instructions below.\n",
    "'''\n",
    "\n",
    "start_time = time.time() #execution start time\n",
    "\n",
    "# COMPLETE THE CODE BELOW\n",
    "# DEFINE AN EMPTY LIST 'res'\n",
    "# ITERATE OVER THE 'data' VARIABLE USING FOR LOOP\n",
    "# CALCULATE THE SQUARE ROOT OF EACH ELEMENT\n",
    "# SAVE THE RESULTS IN 'res'\n",
    "\n",
    "''' WRITE CODE BELOW '''\n",
    "# answer goes here\n",
    "''' WRITE CODE ABOVE '''\n",
    "\n",
    "end_time = time.time() #execution start time\n",
    "\n",
    "for_loop_time_0 = end_time - start_time #time taken\n",
    "\n",
    "print (\"Time taken:\\t{}\".format(for_loop_time_0))"
   ]
  },
  {
   "cell_type": "markdown",
   "metadata": {
    "id": "p-JdouGSgLFP"
   },
   "source": [
    "<hr>\n",
    "<h4>2.1.2. Vectorized Approach</h4>\n",
    "Check out how to solve the same with vectorized operations by running the following two cells:\n",
    "\n",
    "* You don't need to write or change anything for this one. Simply execute the cells.\n",
    "\n",
    "**To-Note**: Pay attention to the difference in execution times\n",
    "\n"
   ]
  },
  {
   "cell_type": "code",
   "execution_count": null,
   "metadata": {
    "id": "m9NZAhp_XJ63"
   },
   "outputs": [],
   "source": [
    "# vector method\n",
    "start_time = time.time() #execution start time\n",
    "\n",
    "# simply calling the numpy.sqrt method\n",
    "res = np.sqrt(data)\n",
    "\n",
    "end_time = time.time() #execution end time\n",
    "\n",
    "vector_time_0 = end_time - start_time #time taken\n",
    "\n",
    "print (\"Time taken:\\t{}\".format(vector_time_0))"
   ]
  },
  {
   "cell_type": "code",
   "execution_count": null,
   "metadata": {
    "id": "49U_f3qtXJtc"
   },
   "outputs": [],
   "source": [
    "print (\"Vector operation is {:.2f}x faster\".format(for_loop_time_0/vector_time_0))"
   ]
  },
  {
   "cell_type": "markdown",
   "metadata": {
    "id": "Mq3nV1CTNRdR"
   },
   "source": [
    "<h3> 2.2 Counting numbers </h3>\n",
    "\n",
    "<b>Given</b> -> 1-d array of 100000 elements between 1 and 999. <br>\n",
    "<b>To-do</b> -> Count number of numbers greater than or equal to 500.\n",
    "\n",
    "<hr>\n",
    "Careful readers will notice how this can be applied for summing over a matrix as well.\n",
    "\n",
    "Execute the following cell first."
   ]
  },
  {
   "cell_type": "code",
   "execution_count": null,
   "metadata": {
    "id": "Tl7B8ACUJe46"
   },
   "outputs": [],
   "source": [
    "data_1 = np.random.randint(low = 1, high = 1000, size = 100000, dtype = int)\n",
    "data_1"
   ]
  },
  {
   "cell_type": "markdown",
   "metadata": {
    "id": "MNYPYkHjo58V"
   },
   "source": [
    "<h4>2.2.1. Non-Vectorized Approach</h4>"
   ]
  },
  {
   "cell_type": "code",
   "execution_count": null,
   "metadata": {
    "id": "wGjNMjGZI5wE"
   },
   "outputs": [],
   "source": [
    "'''\n",
    "Here we will count the number of numbers greater than 500\n",
    "'''\n",
    "\n",
    "start_time = time.time() #execution start time\n",
    "\n",
    "# COMPLETE THE CODE\n",
    "# INITLIAZE A 'count' VARIABLE\n",
    "# ITERATE OVER THE ARRAY USING LOOP OF YOUR CHOICE\n",
    "## CHECK IF THE ELEMENT IS GREATER THAN 500, IF YES INCREASE THE 'count' VARIABLE BY 1\n",
    "\n",
    "''' WRITE CODE BELOW '''\n",
    "# answer goes here\n",
    "''' WRITE CODE ABOVE '''\n",
    "\n",
    "end_time = time.time() #execution end time\n",
    "\n",
    "for_loop_time_1 = end_time - start_time #time taken\n",
    "\n",
    "print (\"{} numbers are greater than or equal to 500\\nTime taken: {}\".format(count, for_loop_time_1))"
   ]
  },
  {
   "cell_type": "markdown",
   "metadata": {
    "id": "jF_0UvG6o58V"
   },
   "source": [
    "<h4>2.2.2. Vectorized Approach</h4>"
   ]
  },
  {
   "cell_type": "code",
   "execution_count": null,
   "metadata": {
    "id": "eC-28Nj0PBZ1"
   },
   "outputs": [],
   "source": [
    "# vectorized approach\n",
    "start_time = time.time() #execution start time\n",
    "\n",
    "count = np.sum(data_1 >= 500)\n",
    "\n",
    "end_time = time.time() #execution end time\n",
    "\n",
    "vector_time_1 = end_time - start_time #time taken\n",
    "print (\"{} numbers are greater than or equal to 500\\nTime taken: {}\".format(count, vector_time_1))"
   ]
  },
  {
   "cell_type": "code",
   "execution_count": null,
   "metadata": {
    "id": "0pph7LnZPIMg"
   },
   "outputs": [],
   "source": [
    "print (\"Vector operation is {:.2f}x faster\".format(for_loop_time_1/vector_time_1))"
   ]
  },
  {
   "cell_type": "markdown",
   "metadata": {
    "id": "XtWARV8FQ6At"
   },
   "source": [
    "<h3> 2.3 Dot Product </h3>\n",
    "    \n",
    "Simply put, the dot product of two arrays is the sum of the products of the corresponding elements of the two arrays. To compute the dot product of two arrays, you first perform an element-wise multiplication of the corresponding elements and then sum them up. In this question, you will practice this.\n",
    "\n",
    "<b>Given</b> -> Two 1-d arrays of size 10000 each <br>\n",
    "<b>To-do</b> -> Perform dot-product of those matrices\n",
    "\n",
    "Execute the following cells first.\n"
   ]
  },
  {
   "cell_type": "code",
   "execution_count": null,
   "metadata": {
    "id": "mnZuqDayR9V1"
   },
   "outputs": [],
   "source": [
    "data_a = np.random.randint(low = 1, high = 500, size = (10000))\n",
    "data_b = np.random.randint(low = 1, high = 500, size = (10000))"
   ]
  },
  {
   "cell_type": "code",
   "execution_count": null,
   "metadata": {
    "id": "wmrTXZ2to58X"
   },
   "outputs": [],
   "source": [
    "data_a"
   ]
  },
  {
   "cell_type": "code",
   "execution_count": null,
   "metadata": {
    "id": "KZUCmoZto58X"
   },
   "outputs": [],
   "source": [
    "data_b"
   ]
  },
  {
   "cell_type": "markdown",
   "metadata": {
    "id": "DSytgbr5o58X"
   },
   "source": [
    "<h4>2.3.1. Non-Vectorized Approach</h4>"
   ]
  },
  {
   "cell_type": "code",
   "execution_count": null,
   "metadata": {
    "id": "MZmFHcrbSdq_"
   },
   "outputs": [],
   "source": [
    "'''\n",
    "Here we'll calculate the dot product of 2 arrays (sum of element-wise multiplication of 2 arrays)\n",
    "'''\n",
    "\n",
    "start_time = time.time() #execution start time\n",
    "\n",
    "# COMPLETE THE CODE\n",
    "# INITIALIZE A VARIABLE 'dot' TO HOLD THE RESULT\n",
    "# ITERATE OVER ONE OF THE ARRAYs USING A FOR LOOP \n",
    "# NOTE: BOTH ARRAYS ARE SAME SIZE, SO IT WON'T MATTER WHICH ARRAY YOU ITERATE OVER\n",
    "# MULTIPLY ELEMENTS AND UPDATE THE 'dot' VARIABLE\n",
    "\n",
    "''' WRITE CODE BELOW '''\n",
    "# answer goes here\n",
    "''' WRITE CODE ABOVE '''\n",
    "\n",
    "end_time = time.time() #execution end time\n",
    "\n",
    "for_loop_time_2 = end_time - start_time #time taken\n",
    "print (\"Dot product:\\t{}\\nTime taken:\\t{}\".format(dot, for_loop_time_2))"
   ]
  },
  {
   "cell_type": "markdown",
   "metadata": {
    "id": "ly0mdi76o58Y"
   },
   "source": [
    "<h4>2.3.2. Vectorized Approach</h4>"
   ]
  },
  {
   "cell_type": "code",
   "execution_count": null,
   "metadata": {
    "id": "YVA1j8lfTAEr"
   },
   "outputs": [],
   "source": [
    "# vector method\n",
    "start_time = time.time() #execution start time\n",
    "\n",
    "dot = np.dot(data_a, data_b)\n",
    "\n",
    "end_time = time.time() #execution end time\n",
    "\n",
    "vector_time_2 = end_time - start_time #time taken\n",
    "print (\"Dot product:\\t{}\\nTime taken:\\t{}\".format(dot, vector_time_2))"
   ]
  },
  {
   "cell_type": "code",
   "execution_count": null,
   "metadata": {
    "id": "Ysb1M6qSTzzT"
   },
   "outputs": [],
   "source": [
    "print (\"Vector operation is {:.2f}x faster\".format(for_loop_time_2/vector_time_2))"
   ]
  },
  {
   "cell_type": "markdown",
   "metadata": {
    "id": "LTWJMX4TUFV4"
   },
   "source": [
    "<h3> 2.4 Matrix Multiplication </h3>\n",
    "<b>Given</b> -> Two 2-d arrays of size 100x100 each  <br>\n",
    "<b>To-do</b> -> Perform matrix multiplication\n",
    "\n",
    "Execute the following cells first."
   ]
  },
  {
   "cell_type": "code",
   "execution_count": null,
   "metadata": {
    "id": "JVDJPxmBVILN"
   },
   "outputs": [],
   "source": [
    "data_a = np.random.randint(low = 1, high = 1000, size = (100, 100))\n",
    "data_b = np.random.randint(low = 1, high = 1000, size = (100, 100))"
   ]
  },
  {
   "cell_type": "code",
   "execution_count": null,
   "metadata": {
    "id": "0jPH_9nMo58c"
   },
   "outputs": [],
   "source": [
    "data_a"
   ]
  },
  {
   "cell_type": "code",
   "execution_count": null,
   "metadata": {
    "id": "SDstxyDBo58c"
   },
   "outputs": [],
   "source": [
    "data_b"
   ]
  },
  {
   "cell_type": "markdown",
   "metadata": {
    "id": "qUAfPnPLo58c"
   },
   "source": [
    "<h4>2.4.1. Non-Vectorized Approach</h4>"
   ]
  },
  {
   "cell_type": "code",
   "execution_count": null,
   "metadata": {
    "id": "4b9WmbuuT2xc"
   },
   "outputs": [],
   "source": [
    "'''\n",
    "Here we'll multiply 2 matrices. Simply run the cell.\n",
    "'''\n",
    "# COMPLETE CODE\n",
    "start_time = time.time()\n",
    "\n",
    "result = np.zeros((100, 100))\n",
    "for i in range(len(data_a)):\n",
    "    for j in range(len(data_b[0])):\n",
    "        for k in range(len(data_b)):\n",
    "            result[i][j] += data_a[i][k] * data_b[k][j]\n",
    "\n",
    "end_time = time.time()\n",
    "for_loop_time_3 = end_time - start_time\n",
    "print (\"Time taken:\\t{}\".format(for_loop_time_3))"
   ]
  },
  {
   "cell_type": "code",
   "execution_count": null,
   "metadata": {
    "id": "MQVhVUKZo58c"
   },
   "outputs": [],
   "source": [
    "result.reshape(100, 100)"
   ]
  },
  {
   "cell_type": "markdown",
   "metadata": {
    "id": "GCSsjROxo58d"
   },
   "source": [
    "<h4>2.4.2. Vectorized Approach</h4>"
   ]
  },
  {
   "cell_type": "code",
   "execution_count": null,
   "metadata": {
    "id": "HVK-Rd4FVmcz"
   },
   "outputs": [],
   "source": [
    "# vector operations\n",
    "start_time = time.time()\n",
    "\n",
    "res = np.dot(data_a, data_b)\n",
    "\n",
    "end_time = time.time()\n",
    "\n",
    "vector_time_3 = end_time - start_time\n",
    "print (\"Time taken:\\t{}\".format(vector_time_3))"
   ]
  },
  {
   "cell_type": "code",
   "execution_count": null,
   "metadata": {
    "id": "x18oK5AZWN6F"
   },
   "outputs": [],
   "source": [
    "print (\"Vector operation is {:.2f}x faster\".format(for_loop_time_3/vector_time_3))"
   ]
  },
  {
   "cell_type": "markdown",
   "metadata": {
    "id": "vCZZLq1qYXWI"
   },
   "source": [
    "<h2> 3. Conclusion </h2>\n",
    "\n",
    "We see how \"fast\" the vector operations are! Although this is on sub-second scales, one should realize the importance of vectorized operations.\n",
    "\n",
    "<hr>\n",
    "Learn more here: https://www.pythonlikeyoumeanit.com/Module3_IntroducingNumpy/VectorizedOperations.html\n"
   ]
  },
  {
   "cell_type": "code",
   "execution_count": null,
   "metadata": {
    "id": "XtmTQ9APo58e"
   },
   "outputs": [],
   "source": []
  }
 ],
 "metadata": {
  "colab": {
   "collapsed_sections": [],
   "name": "DS3000_FLA1.ipynb",
   "provenance": []
  },
  "kernelspec": {
   "display_name": "Python 3",
   "language": "python",
   "name": "python3"
  },
  "language_info": {
   "codemirror_mode": {
    "name": "ipython",
    "version": 3
   },
   "file_extension": ".py",
   "mimetype": "text/x-python",
   "name": "python",
   "nbconvert_exporter": "python",
   "pygments_lexer": "ipython3",
   "version": "3.8.5"
  }
 },
 "nbformat": 4,
 "nbformat_minor": 1
}
