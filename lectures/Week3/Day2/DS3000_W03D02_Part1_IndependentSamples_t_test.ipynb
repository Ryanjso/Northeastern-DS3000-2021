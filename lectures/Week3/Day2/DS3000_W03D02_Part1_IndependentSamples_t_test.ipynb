{
 "cells": [
  {
   "cell_type": "markdown",
   "metadata": {
    "slideshow": {
     "slide_type": "slide"
    }
   },
   "source": [
    "<center> <img src=\"https://yildirimcaglar.github.io/ds3000/ds3000.png\"> </center>"
   ]
  },
  {
   "cell_type": "markdown",
   "metadata": {},
   "source": [
    "<center> <h2> Independent-Samples t Test </h2></center>"
   ]
  },
  {
   "cell_type": "markdown",
   "metadata": {
    "slideshow": {
     "slide_type": "skip"
    }
   },
   "source": [
    "## Outline\n",
    "1. <a href='#1'>SciPy</a>\n",
    "2. <a href='#2'>Exploratory Data Analysis</a>\n",
    "3. <a href='#3'>Independent-Samples t Test</a>\n",
    "4. <a href='#4'>Assumption Checks</a>\n",
    "5. <a href='#5'>Reporting the Results</a>"
   ]
  },
  {
   "cell_type": "markdown",
   "metadata": {
    "slideshow": {
     "slide_type": "skip"
    }
   },
   "source": [
    "<a id=\"1\"></a>"
   ]
  },
  {
   "cell_type": "markdown",
   "metadata": {
    "slideshow": {
     "slide_type": "slide"
    }
   },
   "source": [
    "## 1. SciPy\n",
    "* Fundamental library for scientific computing\n",
    "    * https://docs.scipy.org/doc/scipy/reference/\n",
    "* SciPy has a special module, stats, dedicated to common statistical tests used in data analysis\n",
    "    * https://docs.scipy.org/doc/scipy/reference/tutorial/stats.html"
   ]
  },
  {
   "cell_type": "code",
   "execution_count": null,
   "metadata": {},
   "outputs": [],
   "source": [
    "from scipy import stats"
   ]
  },
  {
   "cell_type": "code",
   "execution_count": null,
   "metadata": {},
   "outputs": [],
   "source": [
    "import pandas as pd"
   ]
  },
  {
   "cell_type": "markdown",
   "metadata": {
    "slideshow": {
     "slide_type": "subslide"
    }
   },
   "source": [
    "### 1.1. Dataset from a Between-Subjects Experiment"
   ]
  },
  {
   "cell_type": "code",
   "execution_count": null,
   "metadata": {},
   "outputs": [],
   "source": [
    "data = pd.read_csv(\"res/wand_candles_data.csv\")\n",
    "data"
   ]
  },
  {
   "cell_type": "markdown",
   "metadata": {
    "slideshow": {
     "slide_type": "skip"
    }
   },
   "source": [
    "<a id=\"2\"></a>"
   ]
  },
  {
   "cell_type": "markdown",
   "metadata": {
    "slideshow": {
     "slide_type": "slide"
    }
   },
   "source": [
    "## 2. Exploratory Data Analysis\n",
    "* Involves checking the descriptive stats and visualizing the data before conducting the test"
   ]
  },
  {
   "cell_type": "markdown",
   "metadata": {},
   "source": [
    "### 2.1. Descriptive Statistics"
   ]
  },
  {
   "cell_type": "code",
   "execution_count": null,
   "metadata": {},
   "outputs": [],
   "source": [
    "descriptives = #TODO in video. Refer to the corresponding video.\n",
    "descriptives"
   ]
  },
  {
   "cell_type": "markdown",
   "metadata": {
    "slideshow": {
     "slide_type": "subslide"
    }
   },
   "source": [
    "### 2.2. Visualizing the Data"
   ]
  },
  {
   "cell_type": "code",
   "execution_count": null,
   "metadata": {},
   "outputs": [],
   "source": [
    "descriptives = descriptives[\"Candles\"]\n",
    "descriptives"
   ]
  },
  {
   "cell_type": "code",
   "execution_count": null,
   "metadata": {},
   "outputs": [],
   "source": [
    "descriptives.reset_index(inplace=True)"
   ]
  },
  {
   "cell_type": "code",
   "execution_count": null,
   "metadata": {},
   "outputs": [],
   "source": [
    "import plotly.express as plt\n",
    "graph = plt.bar(descriptives, x = \"Group\", y = \"mean\", error_x = \"sem\", error_y = \"sem\", template='none', width=500, \n",
    "                labels = {\"mean\": \"Number of Candles\", \"Group\": \"Wand Used\"})\n",
    "\n",
    "graph.update_traces(marker_color=\"#d4202f\")\n",
    "graph.update_traces(marker= dict(line={\"width\":3,\"color\":\"#000000\"}))\n",
    "\n",
    "graph.update_xaxes(title_font={\"size\":16}, tickfont = {\"size\":14, \"color\":\"gray\"})\n",
    "graph.update_yaxes(title_font={\"size\":16}, tickfont = {\"size\":14, \"color\":\"gray\"})\n",
    "\n",
    "\n",
    "graph.show()"
   ]
  },
  {
   "cell_type": "markdown",
   "metadata": {
    "slideshow": {
     "slide_type": "skip"
    }
   },
   "source": [
    "<a id=\"3\"></a>"
   ]
  },
  {
   "cell_type": "markdown",
   "metadata": {
    "slideshow": {
     "slide_type": "slide"
    }
   },
   "source": [
    "## 3. Independent-Samples t Test\n",
    "* Use the **ttest_ind()** method available in SciPy's stats module\n",
    "* **ttest_ind()** accepts two sequence-like objects (lists, Series, etc) corresponding to the distribution of scores in each group being compared\n",
    "    * **ttest_ind(group_a, group_b)**\n",
    "* **ttest_ind()** returns a tuple containing the calculated t statistic and p-value\n",
    "* https://docs.scipy.org/doc/scipy/reference/generated/scipy.stats.ttest_ind.html"
   ]
  },
  {
   "cell_type": "code",
   "execution_count": null,
   "metadata": {
    "slideshow": {
     "slide_type": "-"
    }
   },
   "outputs": [],
   "source": [
    "stats.ttest_ind?"
   ]
  },
  {
   "cell_type": "code",
   "execution_count": null,
   "metadata": {},
   "outputs": [],
   "source": [
    "elder_wand = data[data[\"Group\"] == \"Elder Wand\"][\"Candles\"]\n",
    "elder_wand"
   ]
  },
  {
   "cell_type": "code",
   "execution_count": null,
   "metadata": {},
   "outputs": [],
   "source": [
    "regular_wand = data[data[\"Group\"] == \"Regular Wand\"][\"Candles\"]\n",
    "regular_wand"
   ]
  },
  {
   "cell_type": "code",
   "execution_count": null,
   "metadata": {
    "slideshow": {
     "slide_type": "-"
    }
   },
   "outputs": [],
   "source": [
    "stats.ttest_ind(#TODO in video. Refer to the corresponding video.)"
   ]
  },
  {
   "cell_type": "markdown",
   "metadata": {
    "slideshow": {
     "slide_type": "subslide"
    }
   },
   "source": [
    "### 3.1. t Test Results\n",
    "* ttest_ind() method returns a tuple containing the calculated t statistic and p-value\n",
    "    * the first element of the tuple is the t statistic\n",
    "    * the second element of the tuple is the p-value"
   ]
  },
  {
   "cell_type": "code",
   "execution_count": null,
   "metadata": {},
   "outputs": [],
   "source": [
    "results = stats.ttest_ind(elder_wand, regular_wand)"
   ]
  },
  {
   "cell_type": "code",
   "execution_count": null,
   "metadata": {},
   "outputs": [],
   "source": [
    "#t value\n",
    "tstatistic = results[0]\n",
    "tstatistic"
   ]
  },
  {
   "cell_type": "code",
   "execution_count": null,
   "metadata": {},
   "outputs": [],
   "source": [
    "#p value in scientific notation\n",
    "pvalue = results[1]\n",
    "pvalue"
   ]
  },
  {
   "cell_type": "markdown",
   "metadata": {
    "slideshow": {
     "slide_type": "subslide"
    }
   },
   "source": [
    "### 3.2. Converting the p-value to float\n",
    "* When p-value is extremely small, it is returned in scientific notation format.\n",
    "* Can change this format using the built-in **format()** method"
   ]
  },
  {
   "cell_type": "code",
   "execution_count": null,
   "metadata": {},
   "outputs": [],
   "source": [
    "format(1.243345543049043, \".2f\")"
   ]
  },
  {
   "cell_type": "code",
   "execution_count": null,
   "metadata": {
    "slideshow": {
     "slide_type": "fragment"
    }
   },
   "outputs": [],
   "source": [
    "format(pvalue, '.10f')"
   ]
  },
  {
   "cell_type": "code",
   "execution_count": null,
   "metadata": {},
   "outputs": [],
   "source": []
  },
  {
   "cell_type": "markdown",
   "metadata": {
    "slideshow": {
     "slide_type": "subslide"
    }
   },
   "source": [
    "### 3.3. Degrees of Freedom\n",
    "The number of scores that can be used to estimate the population mean difference\n",
    "* Unfortunately, the ttest_ind() method does not provide the degrees of freedom (df) value. \n",
    "* We can calculate it ourselves though!\n",
    "* For an independent-samples t test, df is calculated as follows:\n",
    "    * df = n1 + n2 - 2"
   ]
  },
  {
   "cell_type": "code",
   "execution_count": null,
   "metadata": {},
   "outputs": [],
   "source": [
    "df = len(elder_wand) + len(regular_wand) - 2\n",
    "df"
   ]
  },
  {
   "cell_type": "code",
   "execution_count": null,
   "metadata": {},
   "outputs": [],
   "source": [
    "def report_independent_t (t, p, df):\n",
    "    print(\"t(%d)=%.2f, p=%.3f\" % (df, t, p))"
   ]
  },
  {
   "cell_type": "code",
   "execution_count": null,
   "metadata": {},
   "outputs": [],
   "source": [
    "report_independent_t(tstatistic, pvalue, df)"
   ]
  },
  {
   "cell_type": "markdown",
   "metadata": {
    "slideshow": {
     "slide_type": "skip"
    }
   },
   "source": [
    "<a id=\"4\"></a>"
   ]
  },
  {
   "cell_type": "markdown",
   "metadata": {
    "slideshow": {
     "slide_type": "slide"
    }
   },
   "source": [
    "## 4. Assumption Checks\n",
    "* Independent-samples t test makes two assumptions:\n",
    "    * Assumption of equality of variances\n",
    "    * Assumption of normality\n"
   ]
  },
  {
   "cell_type": "markdown",
   "metadata": {
    "slideshow": {
     "slide_type": "-"
    }
   },
   "source": [
    "### 4.1. Checking for Equality of Variances\n",
    "* Levene’s Test of Equality of Variances\n",
    "    * Use the **levene()** method in SciPy's stats module\n",
    "    * https://docs.scipy.org/doc/scipy/reference/stats.html\n",
    " \n",
    "* **levene()** returns a tuple containing the results of the assumption check\n",
    "    * You want non-significant results from assumption checks (p > .05)"
   ]
  },
  {
   "cell_type": "code",
   "execution_count": null,
   "metadata": {
    "slideshow": {
     "slide_type": "-"
    }
   },
   "outputs": [],
   "source": [
    "levene_results = stats.levene(elder_wand, regular_wand)\n",
    "levene_results"
   ]
  },
  {
   "cell_type": "markdown",
   "metadata": {
    "slideshow": {
     "slide_type": "slide"
    }
   },
   "source": [
    "### 4.2. Checking for Normality\n",
    "* Shapiro-Wilk Test of Normality\n",
    "    * Use the **shapiro()** method in SciPy's stats module\n",
    "    * https://docs.scipy.org/doc/scipy/reference/generated/scipy.stats.shapiro.html#scipy.stats.shapiro\n",
    "\n",
    "* **shapiro()** returns a tuple containing the results of the assumption check\n",
    "    * You want non-significant results from assumption checks (p > .05)\n",
    "    \n",
    "* Need to pass in the entire distribution of the scores/data"
   ]
  },
  {
   "cell_type": "code",
   "execution_count": null,
   "metadata": {},
   "outputs": [],
   "source": [
    "shapiro_results = stats.shapiro(data[\"Candles\"])\n",
    "shapiro_results"
   ]
  },
  {
   "cell_type": "markdown",
   "metadata": {
    "slideshow": {
     "slide_type": "skip"
    }
   },
   "source": [
    "<a id=\"5\"></a>"
   ]
  },
  {
   "cell_type": "markdown",
   "metadata": {
    "slideshow": {
     "slide_type": "slide"
    }
   },
   "source": [
    "  \n",
    "## 5. Reporting the Results\n",
    "* Report\n",
    "    * descriptives\n",
    "    * assumption checks\n",
    "    * t statistic, degrees of freedom, and p-value\n",
    "    * a bar graph"
   ]
  },
  {
   "cell_type": "code",
   "execution_count": null,
   "metadata": {},
   "outputs": [],
   "source": [
    "descriptives"
   ]
  },
  {
   "cell_type": "code",
   "execution_count": null,
   "metadata": {
    "slideshow": {
     "slide_type": "fragment"
    }
   },
   "outputs": [],
   "source": [
    "tstatistic, pvalue, df"
   ]
  },
  {
   "cell_type": "code",
   "execution_count": null,
   "metadata": {},
   "outputs": [],
   "source": [
    "levene_results"
   ]
  },
  {
   "cell_type": "code",
   "execution_count": null,
   "metadata": {},
   "outputs": [],
   "source": [
    "shapiro_results"
   ]
  },
  {
   "cell_type": "code",
   "execution_count": null,
   "metadata": {},
   "outputs": [],
   "source": [
    "graph.show()"
   ]
  },
  {
   "cell_type": "code",
   "execution_count": null,
   "metadata": {},
   "outputs": [],
   "source": []
  }
 ],
 "metadata": {
  "celltoolbar": "Slideshow",
  "kernelspec": {
   "display_name": "Python 3",
   "language": "python",
   "name": "python3"
  },
  "language_info": {
   "codemirror_mode": {
    "name": "ipython",
    "version": 3
   },
   "file_extension": ".py",
   "mimetype": "text/x-python",
   "name": "python",
   "nbconvert_exporter": "python",
   "pygments_lexer": "ipython3",
   "version": "3.8.5"
  }
 },
 "nbformat": 4,
 "nbformat_minor": 2
}
