{
 "cells": [
  {
   "cell_type": "markdown",
   "metadata": {
    "slideshow": {
     "slide_type": "slide"
    }
   },
   "source": [
    "<center> <img src=\"https://yildirimcaglar.github.io/ds3000/ds3000.png\"> </center>"
   ]
  },
  {
   "cell_type": "markdown",
   "metadata": {},
   "source": [
    "<center> <h2> Data Wrangling Cont'd </h2></center>"
   ]
  },
  {
   "cell_type": "markdown",
   "metadata": {
    "slideshow": {
     "slide_type": "skip"
    }
   },
   "source": [
    "## Outline\n",
    "1. <a href='#1'>Multilevel/Hierarchical Indexing</a>\n",
    "2. <a href='#2'>Working with Missing Values in DataFrames</a>\n",
    "3. <a href='#3'>Working with Duplicates</a>\n",
    "4. <a href='#4'>Replacing Values</a>\n",
    "5. <a href='#5'>Renaming Axis Indices</a>"
   ]
  },
  {
   "cell_type": "markdown",
   "metadata": {
    "slideshow": {
     "slide_type": "skip"
    }
   },
   "source": [
    "<a id=\"1\"></a>"
   ]
  },
  {
   "cell_type": "markdown",
   "metadata": {
    "slideshow": {
     "slide_type": "slide"
    }
   },
   "source": [
    "## 1. Multilevel/Hierarchical Indexing\n",
    "* Can index dataframes using two columns as indices\n",
    "* Use the **set_index** method and pass in a **list of column names**"
   ]
  },
  {
   "cell_type": "code",
   "execution_count": 1,
   "metadata": {},
   "outputs": [],
   "source": [
    "import pandas as pd"
   ]
  },
  {
   "cell_type": "code",
   "execution_count": 2,
   "metadata": {},
   "outputs": [],
   "source": [
    "#need to have saved the output from the previous Notebook as a csv file\n",
    "df = pd.read_csv(\"res/ave_grades.csv\")"
   ]
  },
  {
   "cell_type": "code",
   "execution_count": 3,
   "metadata": {
    "scrolled": true
   },
   "outputs": [
    {
     "data": {
      "text/html": [
       "<div>\n",
       "<style scoped>\n",
       "    .dataframe tbody tr th:only-of-type {\n",
       "        vertical-align: middle;\n",
       "    }\n",
       "\n",
       "    .dataframe tbody tr th {\n",
       "        vertical-align: top;\n",
       "    }\n",
       "\n",
       "    .dataframe thead th {\n",
       "        text-align: right;\n",
       "    }\n",
       "</style>\n",
       "<table border=\"1\" class=\"dataframe\">\n",
       "  <thead>\n",
       "    <tr style=\"text-align: right;\">\n",
       "      <th></th>\n",
       "      <th>Student</th>\n",
       "      <th>House</th>\n",
       "      <th>Potion_Ave</th>\n",
       "      <th>Charm_Ave</th>\n",
       "    </tr>\n",
       "  </thead>\n",
       "  <tbody>\n",
       "    <tr>\n",
       "      <th>0</th>\n",
       "      <td>Hermione Granger</td>\n",
       "      <td>Gryffindor</td>\n",
       "      <td>100.0</td>\n",
       "      <td>100.0</td>\n",
       "    </tr>\n",
       "    <tr>\n",
       "      <th>1</th>\n",
       "      <td>Anthony Goldstein</td>\n",
       "      <td>Ravenclaw</td>\n",
       "      <td>89.0</td>\n",
       "      <td>87.0</td>\n",
       "    </tr>\n",
       "    <tr>\n",
       "      <th>2</th>\n",
       "      <td>Harry Potter</td>\n",
       "      <td>Gryffindor</td>\n",
       "      <td>88.0</td>\n",
       "      <td>90.0</td>\n",
       "    </tr>\n",
       "    <tr>\n",
       "      <th>3</th>\n",
       "      <td>Lisa Turpin</td>\n",
       "      <td>Ravenclaw</td>\n",
       "      <td>86.5</td>\n",
       "      <td>84.0</td>\n",
       "    </tr>\n",
       "    <tr>\n",
       "      <th>4</th>\n",
       "      <td>Michael Corner</td>\n",
       "      <td>Ravenclaw</td>\n",
       "      <td>85.5</td>\n",
       "      <td>86.5</td>\n",
       "    </tr>\n",
       "    <tr>\n",
       "      <th>5</th>\n",
       "      <td>Draco Malfoy</td>\n",
       "      <td>Slytherin</td>\n",
       "      <td>84.5</td>\n",
       "      <td>81.0</td>\n",
       "    </tr>\n",
       "    <tr>\n",
       "      <th>6</th>\n",
       "      <td>Susan Bones</td>\n",
       "      <td>Hufflepuff</td>\n",
       "      <td>84.0</td>\n",
       "      <td>83.5</td>\n",
       "    </tr>\n",
       "    <tr>\n",
       "      <th>7</th>\n",
       "      <td>Ron Weasley</td>\n",
       "      <td>Gryffindor</td>\n",
       "      <td>83.0</td>\n",
       "      <td>87.5</td>\n",
       "    </tr>\n",
       "    <tr>\n",
       "      <th>8</th>\n",
       "      <td>Hannah Abbott</td>\n",
       "      <td>Hufflepuff</td>\n",
       "      <td>80.5</td>\n",
       "      <td>84.5</td>\n",
       "    </tr>\n",
       "    <tr>\n",
       "      <th>9</th>\n",
       "      <td>Ernie Macmillan</td>\n",
       "      <td>Hufflepuff</td>\n",
       "      <td>77.5</td>\n",
       "      <td>85.0</td>\n",
       "    </tr>\n",
       "    <tr>\n",
       "      <th>10</th>\n",
       "      <td>Gregory Goyle</td>\n",
       "      <td>Slytherin</td>\n",
       "      <td>66.5</td>\n",
       "      <td>59.5</td>\n",
       "    </tr>\n",
       "    <tr>\n",
       "      <th>11</th>\n",
       "      <td>Vincent Crabbe</td>\n",
       "      <td>Slytherin</td>\n",
       "      <td>64.0</td>\n",
       "      <td>60.0</td>\n",
       "    </tr>\n",
       "  </tbody>\n",
       "</table>\n",
       "</div>"
      ],
      "text/plain": [
       "              Student       House  Potion_Ave  Charm_Ave\n",
       "0    Hermione Granger  Gryffindor       100.0      100.0\n",
       "1   Anthony Goldstein   Ravenclaw        89.0       87.0\n",
       "2        Harry Potter  Gryffindor        88.0       90.0\n",
       "3         Lisa Turpin   Ravenclaw        86.5       84.0\n",
       "4      Michael Corner   Ravenclaw        85.5       86.5\n",
       "5        Draco Malfoy   Slytherin        84.5       81.0\n",
       "6         Susan Bones  Hufflepuff        84.0       83.5\n",
       "7         Ron Weasley  Gryffindor        83.0       87.5\n",
       "8       Hannah Abbott  Hufflepuff        80.5       84.5\n",
       "9     Ernie Macmillan  Hufflepuff        77.5       85.0\n",
       "10      Gregory Goyle   Slytherin        66.5       59.5\n",
       "11     Vincent Crabbe   Slytherin        64.0       60.0"
      ]
     },
     "execution_count": 3,
     "metadata": {},
     "output_type": "execute_result"
    }
   ],
   "source": [
    "df"
   ]
  },
  {
   "cell_type": "code",
   "execution_count": 4,
   "metadata": {
    "slideshow": {
     "slide_type": "subslide"
    }
   },
   "outputs": [],
   "source": [
    "df = df.set_index(\"Student\")"
   ]
  },
  {
   "cell_type": "code",
   "execution_count": 5,
   "metadata": {},
   "outputs": [
    {
     "data": {
      "text/html": [
       "<div>\n",
       "<style scoped>\n",
       "    .dataframe tbody tr th:only-of-type {\n",
       "        vertical-align: middle;\n",
       "    }\n",
       "\n",
       "    .dataframe tbody tr th {\n",
       "        vertical-align: top;\n",
       "    }\n",
       "\n",
       "    .dataframe thead th {\n",
       "        text-align: right;\n",
       "    }\n",
       "</style>\n",
       "<table border=\"1\" class=\"dataframe\">\n",
       "  <thead>\n",
       "    <tr style=\"text-align: right;\">\n",
       "      <th></th>\n",
       "      <th>House</th>\n",
       "      <th>Potion_Ave</th>\n",
       "      <th>Charm_Ave</th>\n",
       "    </tr>\n",
       "    <tr>\n",
       "      <th>Student</th>\n",
       "      <th></th>\n",
       "      <th></th>\n",
       "      <th></th>\n",
       "    </tr>\n",
       "  </thead>\n",
       "  <tbody>\n",
       "    <tr>\n",
       "      <th>Hermione Granger</th>\n",
       "      <td>Gryffindor</td>\n",
       "      <td>100.0</td>\n",
       "      <td>100.0</td>\n",
       "    </tr>\n",
       "    <tr>\n",
       "      <th>Anthony Goldstein</th>\n",
       "      <td>Ravenclaw</td>\n",
       "      <td>89.0</td>\n",
       "      <td>87.0</td>\n",
       "    </tr>\n",
       "    <tr>\n",
       "      <th>Harry Potter</th>\n",
       "      <td>Gryffindor</td>\n",
       "      <td>88.0</td>\n",
       "      <td>90.0</td>\n",
       "    </tr>\n",
       "    <tr>\n",
       "      <th>Lisa Turpin</th>\n",
       "      <td>Ravenclaw</td>\n",
       "      <td>86.5</td>\n",
       "      <td>84.0</td>\n",
       "    </tr>\n",
       "    <tr>\n",
       "      <th>Michael Corner</th>\n",
       "      <td>Ravenclaw</td>\n",
       "      <td>85.5</td>\n",
       "      <td>86.5</td>\n",
       "    </tr>\n",
       "    <tr>\n",
       "      <th>Draco Malfoy</th>\n",
       "      <td>Slytherin</td>\n",
       "      <td>84.5</td>\n",
       "      <td>81.0</td>\n",
       "    </tr>\n",
       "    <tr>\n",
       "      <th>Susan Bones</th>\n",
       "      <td>Hufflepuff</td>\n",
       "      <td>84.0</td>\n",
       "      <td>83.5</td>\n",
       "    </tr>\n",
       "    <tr>\n",
       "      <th>Ron Weasley</th>\n",
       "      <td>Gryffindor</td>\n",
       "      <td>83.0</td>\n",
       "      <td>87.5</td>\n",
       "    </tr>\n",
       "    <tr>\n",
       "      <th>Hannah Abbott</th>\n",
       "      <td>Hufflepuff</td>\n",
       "      <td>80.5</td>\n",
       "      <td>84.5</td>\n",
       "    </tr>\n",
       "    <tr>\n",
       "      <th>Ernie Macmillan</th>\n",
       "      <td>Hufflepuff</td>\n",
       "      <td>77.5</td>\n",
       "      <td>85.0</td>\n",
       "    </tr>\n",
       "    <tr>\n",
       "      <th>Gregory Goyle</th>\n",
       "      <td>Slytherin</td>\n",
       "      <td>66.5</td>\n",
       "      <td>59.5</td>\n",
       "    </tr>\n",
       "    <tr>\n",
       "      <th>Vincent Crabbe</th>\n",
       "      <td>Slytherin</td>\n",
       "      <td>64.0</td>\n",
       "      <td>60.0</td>\n",
       "    </tr>\n",
       "  </tbody>\n",
       "</table>\n",
       "</div>"
      ],
      "text/plain": [
       "                        House  Potion_Ave  Charm_Ave\n",
       "Student                                             \n",
       "Hermione Granger   Gryffindor       100.0      100.0\n",
       "Anthony Goldstein   Ravenclaw        89.0       87.0\n",
       "Harry Potter       Gryffindor        88.0       90.0\n",
       "Lisa Turpin         Ravenclaw        86.5       84.0\n",
       "Michael Corner      Ravenclaw        85.5       86.5\n",
       "Draco Malfoy        Slytherin        84.5       81.0\n",
       "Susan Bones        Hufflepuff        84.0       83.5\n",
       "Ron Weasley        Gryffindor        83.0       87.5\n",
       "Hannah Abbott      Hufflepuff        80.5       84.5\n",
       "Ernie Macmillan    Hufflepuff        77.5       85.0\n",
       "Gregory Goyle       Slytherin        66.5       59.5\n",
       "Vincent Crabbe      Slytherin        64.0       60.0"
      ]
     },
     "execution_count": 5,
     "metadata": {},
     "output_type": "execute_result"
    }
   ],
   "source": [
    "df"
   ]
  },
  {
   "cell_type": "code",
   "execution_count": 6,
   "metadata": {},
   "outputs": [
    {
     "data": {
      "text/plain": [
       "House         Gryffindor\n",
       "Potion_Ave         100.0\n",
       "Charm_Ave          100.0\n",
       "Name: Hermione Granger, dtype: object"
      ]
     },
     "execution_count": 6,
     "metadata": {},
     "output_type": "execute_result"
    }
   ],
   "source": [
    "df.loc[\"Hermione Granger\"]"
   ]
  },
  {
   "cell_type": "markdown",
   "metadata": {
    "slideshow": {
     "slide_type": "subslide"
    }
   },
   "source": [
    "#### reset_index() method\n",
    "* resets the index\n",
    "* promotes the current index into a column\n",
    "* creates a default numbered index\n"
   ]
  },
  {
   "cell_type": "code",
   "execution_count": 7,
   "metadata": {},
   "outputs": [],
   "source": [
    "df = df.reset_index()"
   ]
  },
  {
   "cell_type": "code",
   "execution_count": 8,
   "metadata": {},
   "outputs": [
    {
     "data": {
      "text/html": [
       "<div>\n",
       "<style scoped>\n",
       "    .dataframe tbody tr th:only-of-type {\n",
       "        vertical-align: middle;\n",
       "    }\n",
       "\n",
       "    .dataframe tbody tr th {\n",
       "        vertical-align: top;\n",
       "    }\n",
       "\n",
       "    .dataframe thead th {\n",
       "        text-align: right;\n",
       "    }\n",
       "</style>\n",
       "<table border=\"1\" class=\"dataframe\">\n",
       "  <thead>\n",
       "    <tr style=\"text-align: right;\">\n",
       "      <th></th>\n",
       "      <th>Student</th>\n",
       "      <th>House</th>\n",
       "      <th>Potion_Ave</th>\n",
       "      <th>Charm_Ave</th>\n",
       "    </tr>\n",
       "  </thead>\n",
       "  <tbody>\n",
       "    <tr>\n",
       "      <th>0</th>\n",
       "      <td>Hermione Granger</td>\n",
       "      <td>Gryffindor</td>\n",
       "      <td>100.0</td>\n",
       "      <td>100.0</td>\n",
       "    </tr>\n",
       "    <tr>\n",
       "      <th>1</th>\n",
       "      <td>Anthony Goldstein</td>\n",
       "      <td>Ravenclaw</td>\n",
       "      <td>89.0</td>\n",
       "      <td>87.0</td>\n",
       "    </tr>\n",
       "    <tr>\n",
       "      <th>2</th>\n",
       "      <td>Harry Potter</td>\n",
       "      <td>Gryffindor</td>\n",
       "      <td>88.0</td>\n",
       "      <td>90.0</td>\n",
       "    </tr>\n",
       "    <tr>\n",
       "      <th>3</th>\n",
       "      <td>Lisa Turpin</td>\n",
       "      <td>Ravenclaw</td>\n",
       "      <td>86.5</td>\n",
       "      <td>84.0</td>\n",
       "    </tr>\n",
       "    <tr>\n",
       "      <th>4</th>\n",
       "      <td>Michael Corner</td>\n",
       "      <td>Ravenclaw</td>\n",
       "      <td>85.5</td>\n",
       "      <td>86.5</td>\n",
       "    </tr>\n",
       "    <tr>\n",
       "      <th>5</th>\n",
       "      <td>Draco Malfoy</td>\n",
       "      <td>Slytherin</td>\n",
       "      <td>84.5</td>\n",
       "      <td>81.0</td>\n",
       "    </tr>\n",
       "    <tr>\n",
       "      <th>6</th>\n",
       "      <td>Susan Bones</td>\n",
       "      <td>Hufflepuff</td>\n",
       "      <td>84.0</td>\n",
       "      <td>83.5</td>\n",
       "    </tr>\n",
       "    <tr>\n",
       "      <th>7</th>\n",
       "      <td>Ron Weasley</td>\n",
       "      <td>Gryffindor</td>\n",
       "      <td>83.0</td>\n",
       "      <td>87.5</td>\n",
       "    </tr>\n",
       "    <tr>\n",
       "      <th>8</th>\n",
       "      <td>Hannah Abbott</td>\n",
       "      <td>Hufflepuff</td>\n",
       "      <td>80.5</td>\n",
       "      <td>84.5</td>\n",
       "    </tr>\n",
       "    <tr>\n",
       "      <th>9</th>\n",
       "      <td>Ernie Macmillan</td>\n",
       "      <td>Hufflepuff</td>\n",
       "      <td>77.5</td>\n",
       "      <td>85.0</td>\n",
       "    </tr>\n",
       "    <tr>\n",
       "      <th>10</th>\n",
       "      <td>Gregory Goyle</td>\n",
       "      <td>Slytherin</td>\n",
       "      <td>66.5</td>\n",
       "      <td>59.5</td>\n",
       "    </tr>\n",
       "    <tr>\n",
       "      <th>11</th>\n",
       "      <td>Vincent Crabbe</td>\n",
       "      <td>Slytherin</td>\n",
       "      <td>64.0</td>\n",
       "      <td>60.0</td>\n",
       "    </tr>\n",
       "  </tbody>\n",
       "</table>\n",
       "</div>"
      ],
      "text/plain": [
       "              Student       House  Potion_Ave  Charm_Ave\n",
       "0    Hermione Granger  Gryffindor       100.0      100.0\n",
       "1   Anthony Goldstein   Ravenclaw        89.0       87.0\n",
       "2        Harry Potter  Gryffindor        88.0       90.0\n",
       "3         Lisa Turpin   Ravenclaw        86.5       84.0\n",
       "4      Michael Corner   Ravenclaw        85.5       86.5\n",
       "5        Draco Malfoy   Slytherin        84.5       81.0\n",
       "6         Susan Bones  Hufflepuff        84.0       83.5\n",
       "7         Ron Weasley  Gryffindor        83.0       87.5\n",
       "8       Hannah Abbott  Hufflepuff        80.5       84.5\n",
       "9     Ernie Macmillan  Hufflepuff        77.5       85.0\n",
       "10      Gregory Goyle   Slytherin        66.5       59.5\n",
       "11     Vincent Crabbe   Slytherin        64.0       60.0"
      ]
     },
     "execution_count": 8,
     "metadata": {},
     "output_type": "execute_result"
    }
   ],
   "source": [
    "df"
   ]
  },
  {
   "cell_type": "code",
   "execution_count": 9,
   "metadata": {
    "slideshow": {
     "slide_type": "subslide"
    }
   },
   "outputs": [],
   "source": [
    "#set multiple indices\n",
    "df = df.set_index([\"House\", \"Student\"])"
   ]
  },
  {
   "cell_type": "code",
   "execution_count": 10,
   "metadata": {},
   "outputs": [
    {
     "data": {
      "text/html": [
       "<div>\n",
       "<style scoped>\n",
       "    .dataframe tbody tr th:only-of-type {\n",
       "        vertical-align: middle;\n",
       "    }\n",
       "\n",
       "    .dataframe tbody tr th {\n",
       "        vertical-align: top;\n",
       "    }\n",
       "\n",
       "    .dataframe thead th {\n",
       "        text-align: right;\n",
       "    }\n",
       "</style>\n",
       "<table border=\"1\" class=\"dataframe\">\n",
       "  <thead>\n",
       "    <tr style=\"text-align: right;\">\n",
       "      <th></th>\n",
       "      <th></th>\n",
       "      <th>Potion_Ave</th>\n",
       "      <th>Charm_Ave</th>\n",
       "    </tr>\n",
       "    <tr>\n",
       "      <th>House</th>\n",
       "      <th>Student</th>\n",
       "      <th></th>\n",
       "      <th></th>\n",
       "    </tr>\n",
       "  </thead>\n",
       "  <tbody>\n",
       "    <tr>\n",
       "      <th>Gryffindor</th>\n",
       "      <th>Hermione Granger</th>\n",
       "      <td>100.0</td>\n",
       "      <td>100.0</td>\n",
       "    </tr>\n",
       "    <tr>\n",
       "      <th>Ravenclaw</th>\n",
       "      <th>Anthony Goldstein</th>\n",
       "      <td>89.0</td>\n",
       "      <td>87.0</td>\n",
       "    </tr>\n",
       "    <tr>\n",
       "      <th>Gryffindor</th>\n",
       "      <th>Harry Potter</th>\n",
       "      <td>88.0</td>\n",
       "      <td>90.0</td>\n",
       "    </tr>\n",
       "    <tr>\n",
       "      <th rowspan=\"2\" valign=\"top\">Ravenclaw</th>\n",
       "      <th>Lisa Turpin</th>\n",
       "      <td>86.5</td>\n",
       "      <td>84.0</td>\n",
       "    </tr>\n",
       "    <tr>\n",
       "      <th>Michael Corner</th>\n",
       "      <td>85.5</td>\n",
       "      <td>86.5</td>\n",
       "    </tr>\n",
       "    <tr>\n",
       "      <th>Slytherin</th>\n",
       "      <th>Draco Malfoy</th>\n",
       "      <td>84.5</td>\n",
       "      <td>81.0</td>\n",
       "    </tr>\n",
       "    <tr>\n",
       "      <th>Hufflepuff</th>\n",
       "      <th>Susan Bones</th>\n",
       "      <td>84.0</td>\n",
       "      <td>83.5</td>\n",
       "    </tr>\n",
       "    <tr>\n",
       "      <th>Gryffindor</th>\n",
       "      <th>Ron Weasley</th>\n",
       "      <td>83.0</td>\n",
       "      <td>87.5</td>\n",
       "    </tr>\n",
       "    <tr>\n",
       "      <th rowspan=\"2\" valign=\"top\">Hufflepuff</th>\n",
       "      <th>Hannah Abbott</th>\n",
       "      <td>80.5</td>\n",
       "      <td>84.5</td>\n",
       "    </tr>\n",
       "    <tr>\n",
       "      <th>Ernie Macmillan</th>\n",
       "      <td>77.5</td>\n",
       "      <td>85.0</td>\n",
       "    </tr>\n",
       "    <tr>\n",
       "      <th rowspan=\"2\" valign=\"top\">Slytherin</th>\n",
       "      <th>Gregory Goyle</th>\n",
       "      <td>66.5</td>\n",
       "      <td>59.5</td>\n",
       "    </tr>\n",
       "    <tr>\n",
       "      <th>Vincent Crabbe</th>\n",
       "      <td>64.0</td>\n",
       "      <td>60.0</td>\n",
       "    </tr>\n",
       "  </tbody>\n",
       "</table>\n",
       "</div>"
      ],
      "text/plain": [
       "                              Potion_Ave  Charm_Ave\n",
       "House      Student                                 \n",
       "Gryffindor Hermione Granger        100.0      100.0\n",
       "Ravenclaw  Anthony Goldstein        89.0       87.0\n",
       "Gryffindor Harry Potter             88.0       90.0\n",
       "Ravenclaw  Lisa Turpin              86.5       84.0\n",
       "           Michael Corner           85.5       86.5\n",
       "Slytherin  Draco Malfoy             84.5       81.0\n",
       "Hufflepuff Susan Bones              84.0       83.5\n",
       "Gryffindor Ron Weasley              83.0       87.5\n",
       "Hufflepuff Hannah Abbott            80.5       84.5\n",
       "           Ernie Macmillan          77.5       85.0\n",
       "Slytherin  Gregory Goyle            66.5       59.5\n",
       "           Vincent Crabbe           64.0       60.0"
      ]
     },
     "execution_count": 10,
     "metadata": {},
     "output_type": "execute_result"
    }
   ],
   "source": [
    "df"
   ]
  },
  {
   "cell_type": "code",
   "execution_count": null,
   "metadata": {
    "slideshow": {
     "slide_type": "subslide"
    }
   },
   "outputs": [],
   "source": [
    "df = df.sort_index()"
   ]
  },
  {
   "cell_type": "code",
   "execution_count": null,
   "metadata": {},
   "outputs": [],
   "source": [
    "df"
   ]
  },
  {
   "cell_type": "markdown",
   "metadata": {
    "slideshow": {
     "slide_type": "subslide"
    }
   },
   "source": [
    "* Multilevel indices are stored as a list of tuples:"
   ]
  },
  {
   "cell_type": "code",
   "execution_count": null,
   "metadata": {
    "scrolled": true,
    "slideshow": {
     "slide_type": "-"
    }
   },
   "outputs": [],
   "source": [
    "df.index"
   ]
  },
  {
   "cell_type": "code",
   "execution_count": null,
   "metadata": {},
   "outputs": [],
   "source": [
    "df.index.values"
   ]
  },
  {
   "cell_type": "markdown",
   "metadata": {
    "slideshow": {
     "slide_type": "subslide"
    }
   },
   "source": [
    "### 1.1. Selecting Rows from a Hierarchically-Indexed DataFrame"
   ]
  },
  {
   "cell_type": "code",
   "execution_count": null,
   "metadata": {},
   "outputs": [],
   "source": [
    "df.loc[\"Gryffindor\"]"
   ]
  },
  {
   "cell_type": "code",
   "execution_count": null,
   "metadata": {
    "slideshow": {
     "slide_type": "fragment"
    }
   },
   "outputs": [],
   "source": [
    "df.loc[\"Gryffindor\", \"Harry Potter\"]"
   ]
  },
  {
   "cell_type": "code",
   "execution_count": null,
   "metadata": {
    "slideshow": {
     "slide_type": "subslide"
    }
   },
   "outputs": [],
   "source": [
    "df.loc[\"Gryffindor\"].describe()"
   ]
  },
  {
   "cell_type": "code",
   "execution_count": null,
   "metadata": {
    "slideshow": {
     "slide_type": "fragment"
    }
   },
   "outputs": [],
   "source": [
    "df.loc[\"Slytherin\"].mean()"
   ]
  },
  {
   "cell_type": "markdown",
   "metadata": {
    "slideshow": {
     "slide_type": "fragment"
    }
   },
   "source": [
    "#### How would you modify the code snippet above to retrieve the mean score for Slytherin on Potion_Ave?"
   ]
  },
  {
   "cell_type": "code",
   "execution_count": null,
   "metadata": {
    "scrolled": true,
    "slideshow": {
     "slide_type": "fragment"
    }
   },
   "outputs": [],
   "source": [
    "#TODO in video"
   ]
  },
  {
   "cell_type": "markdown",
   "metadata": {
    "slideshow": {
     "slide_type": "subslide"
    }
   },
   "source": [
    "### 1.2. Selecting Multiple Rows\n",
    "* When selecting multiple rows, provide a list of tuples corresponding to each row\n",
    "    * e.g., if selecting two rows, provide a list of two tuples\n",
    "        * Let's select Harry Potter and Draco Malfoy"
   ]
  },
  {
   "cell_type": "code",
   "execution_count": null,
   "metadata": {},
   "outputs": [],
   "source": [
    "df.loc[[(\"Gryffindor\", \"Harry Potter\"), (\"Slytherin\", \"Draco Malfoy\")]]"
   ]
  },
  {
   "cell_type": "markdown",
   "metadata": {
    "slideshow": {
     "slide_type": "subslide"
    }
   },
   "source": [
    "### 1.3. Selecting Multiple Rows with Specific Columns\n",
    "* Specify the list of columns as a second argument to **.loc[rows, columns]**"
   ]
  },
  {
   "cell_type": "code",
   "execution_count": null,
   "metadata": {},
   "outputs": [],
   "source": [
    "df.loc[[(\"Gryffindor\", \"Harry Potter\"), (\"Slytherin\", \"Draco Malfoy\")], [\"Potion_Ave\"]]"
   ]
  },
  {
   "cell_type": "markdown",
   "metadata": {
    "slideshow": {
     "slide_type": "skip"
    }
   },
   "source": [
    "<a id=\"2\"></a>"
   ]
  },
  {
   "cell_type": "markdown",
   "metadata": {
    "slideshow": {
     "slide_type": "slide"
    }
   },
   "source": [
    "## 2. Working with Missing Values in DataFrames\n",
    "* Real-life datasets often contain missing values\n",
    "* Need to do something about those missing values before analyzing the data"
   ]
  },
  {
   "cell_type": "code",
   "execution_count": null,
   "metadata": {},
   "outputs": [],
   "source": [
    "dada = pd.read_csv(\"res/DADA.csv\")"
   ]
  },
  {
   "cell_type": "code",
   "execution_count": null,
   "metadata": {},
   "outputs": [],
   "source": [
    "dada"
   ]
  },
  {
   "cell_type": "markdown",
   "metadata": {
    "slideshow": {
     "slide_type": "subslide"
    }
   },
   "source": [
    "### Pandas and Missing Data\n",
    "* Pandas automatically assigns **NaN**, \"Not a Number\", to missing values while reading a file\n",
    "* By defaulty, empty cells are considered missing values, and hence, assigned NaN\n",
    "* Can specify the missing value used to indicate missing data\n",
    "    * use **na_values** keyword argument"
   ]
  },
  {
   "cell_type": "code",
   "execution_count": null,
   "metadata": {},
   "outputs": [],
   "source": [
    "pd.read_csv(\"res/DADA_NA.csv\")"
   ]
  },
  {
   "cell_type": "code",
   "execution_count": null,
   "metadata": {},
   "outputs": [],
   "source": [
    "pd.read_csv(\"res/DADA_NA.csv\", na_values = \"-99\")"
   ]
  },
  {
   "cell_type": "markdown",
   "metadata": {
    "slideshow": {
     "slide_type": "subslide"
    }
   },
   "source": [
    "### What to do with missing data?\n",
    "* Filter out missing data\n",
    "* Fill in missing data\n",
    "* Ignore missing data"
   ]
  },
  {
   "cell_type": "markdown",
   "metadata": {
    "slideshow": {
     "slide_type": "subslide"
    }
   },
   "source": [
    "### 2.1. Filtering Out Missing Data\n",
    "* The dropna() method allows you to drop rows and columns with missing data\n",
    "* By default, dropna() drops any row containing a missing value"
   ]
  },
  {
   "cell_type": "code",
   "execution_count": null,
   "metadata": {},
   "outputs": [],
   "source": [
    "dada"
   ]
  },
  {
   "cell_type": "code",
   "execution_count": null,
   "metadata": {
    "slideshow": {
     "slide_type": "subslide"
    }
   },
   "outputs": [],
   "source": [
    "dada_clean = dada.dropna()"
   ]
  },
  {
   "cell_type": "code",
   "execution_count": null,
   "metadata": {},
   "outputs": [],
   "source": [
    "dada_clean"
   ]
  },
  {
   "cell_type": "code",
   "execution_count": null,
   "metadata": {
    "slideshow": {
     "slide_type": "subslide"
    }
   },
   "outputs": [],
   "source": [
    "dada"
   ]
  },
  {
   "cell_type": "markdown",
   "metadata": {
    "slideshow": {
     "slide_type": "subslide"
    }
   },
   "source": [
    "### 2.1.1. Filtering out empty rows\n",
    "It appears that Row 12 is in the dataset by mistake."
   ]
  },
  {
   "cell_type": "markdown",
   "metadata": {},
   "source": [
    "**dropna(how = \"all\")** will only drop rows that are all NaN.\n",
    "* If you want to drop columns in the same way, pass **axis=1**: **df.dropna(how=\"all\", axis=1)**"
   ]
  },
  {
   "cell_type": "code",
   "execution_count": null,
   "metadata": {},
   "outputs": [],
   "source": [
    "dada= dada.dropna(how=\"all\")"
   ]
  },
  {
   "cell_type": "code",
   "execution_count": null,
   "metadata": {},
   "outputs": [],
   "source": [
    "dada"
   ]
  },
  {
   "cell_type": "markdown",
   "metadata": {
    "slideshow": {
     "slide_type": "subslide"
    }
   },
   "source": [
    "* Alternatively, set skip_blank_lines=True when loading the dataset"
   ]
  },
  {
   "cell_type": "code",
   "execution_count": null,
   "metadata": {},
   "outputs": [],
   "source": [
    "pd.read_csv(\"res/DADA_NA.csv\", skip_blank_lines=True) "
   ]
  },
  {
   "cell_type": "markdown",
   "metadata": {
    "slideshow": {
     "slide_type": "subslide"
    }
   },
   "source": [
    "### 2.2. Filling In Missing Data\n",
    "* Instead of filtering out missing data, you can fill in missing data with some other values.\n",
    "* the **fillna()** method allows you to fill in missing data with specific values"
   ]
  },
  {
   "cell_type": "code",
   "execution_count": null,
   "metadata": {},
   "outputs": [],
   "source": [
    "dada.fillna(0)"
   ]
  },
  {
   "cell_type": "markdown",
   "metadata": {
    "slideshow": {
     "slide_type": "subslide"
    }
   },
   "source": [
    "### Caution\n",
    "* fillna returns a new DF\n",
    "* If you want to update the original DF, set inplace=True\n",
    "> ```python\n",
    "dada.fillna(0, inplace = True)\n",
    "```"
   ]
  },
  {
   "cell_type": "markdown",
   "metadata": {
    "slideshow": {
     "slide_type": "subslide"
    }
   },
   "source": [
    "### 2.2.1. Filling In a Different Value for Each Column\n",
    "* Can fill in each column with a different value\n",
    "* Pass in a dictionary containing column names as keys and desired NA values as values\n",
    "    * **fillna(dictionary_of_values)**"
   ]
  },
  {
   "cell_type": "code",
   "execution_count": null,
   "metadata": {},
   "outputs": [],
   "source": [
    "default_col_values = {\"Expelliarmus\": 0, \"Stupefy\": 0, \"Protego\": 0, \n",
    "                      \"Accio\": 0, \"Petrificus Totalus\": 0, \"Expecto Patronum\": \"\"}"
   ]
  },
  {
   "cell_type": "code",
   "execution_count": null,
   "metadata": {},
   "outputs": [],
   "source": [
    "dada.fillna(default_col_values)"
   ]
  },
  {
   "cell_type": "markdown",
   "metadata": {
    "slideshow": {
     "slide_type": "skip"
    }
   },
   "source": [
    "<a id=\"3\"></a>"
   ]
  },
  {
   "cell_type": "markdown",
   "metadata": {
    "slideshow": {
     "slide_type": "slide"
    }
   },
   "source": [
    "## 3. Working with Duplicates\n",
    "* Sometimes datasets contain duplicates record, which you may want to discard"
   ]
  },
  {
   "cell_type": "code",
   "execution_count": null,
   "metadata": {},
   "outputs": [],
   "source": [
    "dada"
   ]
  },
  {
   "cell_type": "code",
   "execution_count": null,
   "metadata": {},
   "outputs": [],
   "source": [
    "dada = dada.append(dada.iloc[0])"
   ]
  },
  {
   "cell_type": "code",
   "execution_count": null,
   "metadata": {},
   "outputs": [],
   "source": [
    "dada"
   ]
  },
  {
   "cell_type": "markdown",
   "metadata": {},
   "source": [
    "### 3.1. duplicated() method\n",
    "Returns a boolean Series indicating whether each row is a duplicated (whether it has been observed in a previous row)"
   ]
  },
  {
   "cell_type": "code",
   "execution_count": null,
   "metadata": {},
   "outputs": [],
   "source": [
    "dada.duplicated()"
   ]
  },
  {
   "cell_type": "markdown",
   "metadata": {},
   "source": [
    "### 3.2. drop_duplicates() method\n",
    "* Returns a DataFrame where the duplicates have been dropped"
   ]
  },
  {
   "cell_type": "code",
   "execution_count": null,
   "metadata": {},
   "outputs": [],
   "source": [
    "dada.drop_duplicates()"
   ]
  },
  {
   "cell_type": "markdown",
   "metadata": {
    "slideshow": {
     "slide_type": "subslide"
    }
   },
   "source": [
    "* You can also specify a subset of columns to detect duplicates.\n",
    "* Pass in a list of column names as an argument to the **drop_duplicates()** method call."
   ]
  },
  {
   "cell_type": "code",
   "execution_count": null,
   "metadata": {},
   "outputs": [],
   "source": [
    "dada"
   ]
  },
  {
   "cell_type": "code",
   "execution_count": null,
   "metadata": {
    "slideshow": {
     "slide_type": "subslide"
    }
   },
   "outputs": [],
   "source": [
    "dada.drop_duplicates([\"Student\"])"
   ]
  },
  {
   "cell_type": "markdown",
   "metadata": {
    "slideshow": {
     "slide_type": "subslide"
    }
   },
   "source": [
    "* By default, both duplicated() and drop_duplicates() keep the first observed value combination. \n",
    "* If you want to keep the last value, pass in **keep=\"last\"**"
   ]
  },
  {
   "cell_type": "code",
   "execution_count": null,
   "metadata": {},
   "outputs": [],
   "source": [
    "dada"
   ]
  },
  {
   "cell_type": "code",
   "execution_count": null,
   "metadata": {},
   "outputs": [],
   "source": [
    "dada.drop_duplicates([\"Student\"], keep=\"last\")"
   ]
  },
  {
   "cell_type": "markdown",
   "metadata": {
    "slideshow": {
     "slide_type": "skip"
    }
   },
   "source": [
    "<a id=\"4\"></a>"
   ]
  },
  {
   "cell_type": "markdown",
   "metadata": {
    "slideshow": {
     "slide_type": "slide"
    }
   },
   "source": [
    "## 4. Replacing Values\n",
    "* Beyond filtering or fill in missing data, we can replace certain values with new values.\n",
    "* **df.replace(current_value, new_value)**"
   ]
  },
  {
   "cell_type": "code",
   "execution_count": null,
   "metadata": {},
   "outputs": [],
   "source": [
    "dada_NA = pd.read_csv(\"res/DADA_NA.csv\")"
   ]
  },
  {
   "cell_type": "code",
   "execution_count": null,
   "metadata": {},
   "outputs": [],
   "source": [
    "dada_NA"
   ]
  },
  {
   "cell_type": "code",
   "execution_count": null,
   "metadata": {
    "slideshow": {
     "slide_type": "subslide"
    }
   },
   "outputs": [],
   "source": [
    "dada_NA.replace(-99, \"NaN\") #numpy has a specific attribute for NaN: np.nan"
   ]
  },
  {
   "cell_type": "code",
   "execution_count": null,
   "metadata": {
    "slideshow": {
     "slide_type": "subslide"
    }
   },
   "outputs": [],
   "source": [
    "dada_NA"
   ]
  },
  {
   "cell_type": "code",
   "execution_count": null,
   "metadata": {
    "slideshow": {
     "slide_type": "subslide"
    }
   },
   "outputs": [],
   "source": [
    "dada_NA.replace(\"Drace Malfoy\", \"Draco Malfoy\", inplace=True)"
   ]
  },
  {
   "cell_type": "code",
   "execution_count": null,
   "metadata": {},
   "outputs": [],
   "source": [
    "dada_NA"
   ]
  },
  {
   "cell_type": "markdown",
   "metadata": {
    "slideshow": {
     "slide_type": "subslide"
    }
   },
   "source": [
    "* If you want to replace multiple values at once, pass a list and then the substitute value(s)\n",
    "\n",
    "```python\n",
    "dada_NA.replace([-99, -999], \"NaN\")\n",
    "dada_NA.replace([-99, -999], [\"NaN\", 0])\n",
    "dada_NA.replace({-99: \"NaN\", -999: 0})\n",
    "```"
   ]
  },
  {
   "cell_type": "markdown",
   "metadata": {
    "slideshow": {
     "slide_type": "skip"
    }
   },
   "source": [
    "<a id=\"5\"></a>"
   ]
  },
  {
   "cell_type": "markdown",
   "metadata": {
    "slideshow": {
     "slide_type": "slide"
    }
   },
   "source": [
    "## 5. Renaming Axis Indices\n",
    "* Can rename rows and columns using the **rename()** method\n",
    "* Use *column* and *index* keywords arguments\n",
    "* Pass **inplace=True** if you want to modify the original df"
   ]
  },
  {
   "cell_type": "code",
   "execution_count": null,
   "metadata": {},
   "outputs": [],
   "source": [
    "dada_NA = dada_NA.set_index(\"Student\")"
   ]
  },
  {
   "cell_type": "code",
   "execution_count": null,
   "metadata": {},
   "outputs": [],
   "source": [
    "dada_NA"
   ]
  },
  {
   "cell_type": "code",
   "execution_count": null,
   "metadata": {
    "slideshow": {
     "slide_type": "subslide"
    }
   },
   "outputs": [],
   "source": [
    "dada_NA = dada_NA.rename(index={\"Harry Potter\": \"Harry\", \"Hermione Granger\": \"Hermione\", \"Ron Weasley\": \"Ron\"})"
   ]
  },
  {
   "cell_type": "code",
   "execution_count": null,
   "metadata": {},
   "outputs": [],
   "source": [
    "dada_NA"
   ]
  },
  {
   "cell_type": "code",
   "execution_count": null,
   "metadata": {},
   "outputs": [],
   "source": []
  }
 ],
 "metadata": {
  "celltoolbar": "Slideshow",
  "kernelspec": {
   "display_name": "Python 3",
   "language": "python",
   "name": "python3"
  },
  "language_info": {
   "codemirror_mode": {
    "name": "ipython",
    "version": 3
   },
   "file_extension": ".py",
   "mimetype": "text/x-python",
   "name": "python",
   "nbconvert_exporter": "python",
   "pygments_lexer": "ipython3",
   "version": "3.8.5"
  }
 },
 "nbformat": 4,
 "nbformat_minor": 2
}
