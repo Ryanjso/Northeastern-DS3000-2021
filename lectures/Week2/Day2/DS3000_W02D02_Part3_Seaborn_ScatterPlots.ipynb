{
 "cells": [
  {
   "cell_type": "markdown",
   "metadata": {
    "slideshow": {
     "slide_type": "slide"
    }
   },
   "source": [
    "<center> <img src=\"https://yildirimcaglar.github.io/ds3000/ds3000.png\"> </center>"
   ]
  },
  {
   "cell_type": "markdown",
   "metadata": {},
   "source": [
    "<center> <h2>Scatter Plots</h2></center>"
   ]
  },
  {
   "cell_type": "markdown",
   "metadata": {
    "slideshow": {
     "slide_type": "skip"
    }
   },
   "source": [
    "## Outline\n",
    "1. <a href='#1'>Scatter Plots</a>\n",
    "2. <a href='#2'>Plotting Two Groups in One Scatter Plot</a>\n",
    "3. <a href='#3'>Plot Properties</a>\n",
    "4. <a href='#4'>Bubble Plots</a>"
   ]
  },
  {
   "cell_type": "markdown",
   "metadata": {
    "slideshow": {
     "slide_type": "skip"
    }
   },
   "source": [
    "<a id=\"1\"></a>"
   ]
  },
  {
   "cell_type": "markdown",
   "metadata": {
    "slideshow": {
     "slide_type": "slide"
    }
   },
   "source": [
    "## 1. Scatter Plots\n",
    "* Commonly used to show distribution of two variables using a cloud of points, where each point represents an observation in the dataset\n",
    "* Makes it easier to discern the relationship between two variables\n",
    "* Both axes should be a numeric variable\n",
    "* Use **sns.scatterplot()** method to draw scatter plots\n",
    "* https://seaborn.pydata.org/generated/seaborn.scatterplot.html"
   ]
  },
  {
   "cell_type": "code",
   "execution_count": null,
   "metadata": {},
   "outputs": [],
   "source": [
    "import matplotlib.pyplot as plt\n",
    "import seaborn as sns"
   ]
  },
  {
   "cell_type": "code",
   "execution_count": null,
   "metadata": {},
   "outputs": [],
   "source": [
    "%matplotlib inline"
   ]
  },
  {
   "cell_type": "code",
   "execution_count": null,
   "metadata": {
    "slideshow": {
     "slide_type": "subslide"
    }
   },
   "outputs": [],
   "source": [
    "import pandas as pd\n",
    "df = pd.read_csv(\"res/ave_grades.csv\")"
   ]
  },
  {
   "cell_type": "code",
   "execution_count": null,
   "metadata": {},
   "outputs": [],
   "source": [
    "df"
   ]
  },
  {
   "cell_type": "code",
   "execution_count": null,
   "metadata": {
    "slideshow": {
     "slide_type": "subslide"
    }
   },
   "outputs": [],
   "source": [
    "df.head()"
   ]
  },
  {
   "cell_type": "code",
   "execution_count": null,
   "metadata": {},
   "outputs": [],
   "source": [
    "graph = sns.scatterplot(x=\"Potion_Ave\", y=\"Charm_Ave\", data = df)"
   ]
  },
  {
   "cell_type": "code",
   "execution_count": null,
   "metadata": {
    "slideshow": {
     "slide_type": "subslide"
    }
   },
   "outputs": [],
   "source": [
    "import seaborn as sns\n",
    "\n",
    "# create and display the scatter plot\n",
    "graph = sns.scatterplot(x=\"Potion_Ave\", y=\"Charm_Ave\", data = df)\n",
    "\n",
    "#specify the title\n",
    "title = \"The Relationship between Potion and Charm Grades\"\n",
    "\n",
    "#set the title of the plot\n",
    "graph.set_title(title, size = 16)\n",
    "\n",
    "#add labels to the axes  \n",
    "graph.set_xlabel(\"Average Potion Grades\", size = 16)\n",
    "graph.set_ylabel(\"Average Charm Grades\", size = 16)"
   ]
  },
  {
   "cell_type": "markdown",
   "metadata": {
    "slideshow": {
     "slide_type": "skip"
    }
   },
   "source": [
    "<a id=\"2\"></a>"
   ]
  },
  {
   "cell_type": "markdown",
   "metadata": {
    "slideshow": {
     "slide_type": "slide"
    }
   },
   "source": [
    "## 2. Plotting Two Groups in One Scatter Plot\n",
    "* The datafile should have at least three columns:\n",
    "    * One for the labels on the x-axis\n",
    "    * One for the values on the y-axis\n",
    "    * One for the category of the lines (grouping column)\n",
    "\n",
    "<br>\n",
    "\n",
    "* Specify the category column, or variable, using the **hue** keyword attribute\n",
    "    * **hue** indicates the grouping variable that will produce scatters with different colors."
   ]
  },
  {
   "cell_type": "code",
   "execution_count": null,
   "metadata": {
    "slideshow": {
     "slide_type": "subslide"
    }
   },
   "outputs": [],
   "source": [
    "df.head()"
   ]
  },
  {
   "cell_type": "code",
   "execution_count": null,
   "metadata": {
    "slideshow": {
     "slide_type": "subslide"
    }
   },
   "outputs": [],
   "source": [
    "import seaborn as sns\n",
    "\n",
    "\n",
    "\n",
    "# create and display the line plot\n",
    "graph = sns.scatterplot(x=\"Potion_Ave\", y=\"Charm_Ave\", hue = \"House\", \n",
    "                        data = df, palette = [\"darkred\", \"gold\", \"darkblue\", \"darkgreen\"])\n",
    "\n",
    "#specify the title\n",
    "title = \"The Relationship between Potion and Charm Grades\"\n",
    "\n",
    "#set the title of the plot\n",
    "graph.set_title(title, size = 16)\n",
    "\n",
    "#add labels to the axes  \n",
    "graph.set_xlabel(\"Average Potion Grades\", size = 16)\n",
    "graph.set_ylabel(\"Average Charm Grades\", size = 16)\n",
    "\n",
    "#move the legend to lower right\n",
    "plt.legend(loc=\"lower right\")"
   ]
  },
  {
   "cell_type": "markdown",
   "metadata": {
    "slideshow": {
     "slide_type": "skip"
    }
   },
   "source": [
    "<a id=\"3\"></a>"
   ]
  },
  {
   "cell_type": "markdown",
   "metadata": {
    "slideshow": {
     "slide_type": "slide"
    }
   },
   "source": [
    "## 3. Scatter Plot Properties"
   ]
  },
  {
   "cell_type": "markdown",
   "metadata": {
    "slideshow": {
     "slide_type": "subslide"
    }
   },
   "source": [
    "### 3.1. Changing Markers\n",
    "* Use the **marker** keyword to change the marker to a different symbol\n",
    "* Default is point\n",
    "* Full list of markers:\n",
    "    * https://matplotlib.org/3.1.1/api/markers_api.html\n",
    "\n"
   ]
  },
  {
   "cell_type": "code",
   "execution_count": null,
   "metadata": {
    "slideshow": {
     "slide_type": "subslide"
    }
   },
   "outputs": [],
   "source": [
    "import seaborn as sns\n",
    "\n",
    "\n",
    "# create and display the line plot\n",
    "graph = sns.scatterplot(x=\"Potion_Ave\", y=\"Charm_Ave\", data = df, marker = \"*\", color = \"darkgreen\", )\n",
    "\n",
    "#specify the title\n",
    "title = \"The Relationship between Potion and Charm Grades\"\n",
    "\n",
    "#set the title of the plot\n",
    "graph.set_title(title, size = 16)\n",
    "\n",
    "#add labels to the axes  \n",
    "graph.set_xlabel(\"Average Potion Grades\", size = 16)\n",
    "graph.set_ylabel(\"Average Charm Grades\", size = 16)\n"
   ]
  },
  {
   "cell_type": "markdown",
   "metadata": {
    "slideshow": {
     "slide_type": "subslide"
    }
   },
   "source": [
    "### 3.2. Changing Marker Size\n",
    "* Use the **s** keyword to specify the size of markers"
   ]
  },
  {
   "cell_type": "code",
   "execution_count": null,
   "metadata": {},
   "outputs": [],
   "source": [
    "import seaborn as sns\n",
    "\n",
    "\n",
    "# create and display the scatter plot\n",
    "graph = sns.scatterplot(x=\"Potion_Ave\", y=\"Charm_Ave\", data = df, \n",
    "                        marker = \"o\", s=100, color = \"darkgreen\", alpha=0.5)\n",
    "\n",
    "#specify the title\n",
    "title = \"The Relationship between Potion and Charm Grades\"\n",
    "\n",
    "#set the title of the plot\n",
    "graph.set_title(title, size = 16)\n",
    "\n",
    "#add labels to the axes  \n",
    "graph.set_xlabel(\"Average Potion Grades\", size = 16)\n",
    "graph.set_ylabel(\"Average Charm Grades\", size = 16)"
   ]
  },
  {
   "cell_type": "markdown",
   "metadata": {
    "slideshow": {
     "slide_type": "skip"
    }
   },
   "source": [
    "<a id=\"4\"></a>"
   ]
  },
  {
   "cell_type": "markdown",
   "metadata": {
    "slideshow": {
     "slide_type": "slide"
    }
   },
   "source": [
    "## 4. Bubble Plots\n",
    "* A variation of a scatter plot in which the data points are replaced with bubbles\n",
    "* The size of the bubbles represents a third dimension of the data\n",
    "* Use the **size** keyword to specify the column to be used for the size of the bubbles.\n",
    "* **sizes** can specify the min and max size of the bubbles in a tuple."
   ]
  },
  {
   "cell_type": "code",
   "execution_count": null,
   "metadata": {},
   "outputs": [],
   "source": [
    "world_data = pd.read_csv(\"res/life_income.csv\")"
   ]
  },
  {
   "cell_type": "code",
   "execution_count": null,
   "metadata": {},
   "outputs": [],
   "source": [
    "world_data.head()"
   ]
  },
  {
   "cell_type": "code",
   "execution_count": null,
   "metadata": {
    "slideshow": {
     "slide_type": "subslide"
    }
   },
   "outputs": [],
   "source": [
    "import seaborn as sns\n",
    "\n",
    "# create and display the line plot\n",
    "graph = sns.scatterplot(x=\"Income\", y=\"LifeExpectancy\", data = world_data, s=100, alpha=.5)\n",
    "\n",
    "#specify the title\n",
    "title = \"Relationship between Income(GDP per capita) and Life Expectancy\"\n",
    "\n",
    "#set the title of the plot\n",
    "graph.set_title(title, size = 16)\n",
    "\n",
    "#add labels to the axes  \n",
    "graph.set_xlabel(\"Income\", size = 16)\n",
    "graph.set_ylabel(\"Life Expectancy\", size = 16)"
   ]
  },
  {
   "cell_type": "code",
   "execution_count": null,
   "metadata": {
    "slideshow": {
     "slide_type": "subslide"
    }
   },
   "outputs": [],
   "source": [
    "import seaborn as sns\n",
    "\n",
    "# create and display the scatter plot\n",
    "graph = sns.scatterplot(x=\"Income\", y=\"LifeExpectancy\", size=\"Population\", data = world_data, sizes= (100, 2000), \n",
    "                        legend=False, color=\"darkred\", alpha=.5)\n",
    "\n",
    "#specify the title\n",
    "title = \"Relationship between Income(GDP per capita) and Life Expectancy\"\n",
    "\n",
    "#set the title of the plot\n",
    "graph.set_title(title, size = 16)\n",
    "\n",
    "#add labels to the axes  \n",
    "graph.set_xlabel(\"Income\", size = 16)\n",
    "graph.set_ylabel(\"Life Expectancy\", size = 16)"
   ]
  },
  {
   "cell_type": "code",
   "execution_count": null,
   "metadata": {},
   "outputs": [],
   "source": []
  }
 ],
 "metadata": {
  "celltoolbar": "Slideshow",
  "kernelspec": {
   "display_name": "Python 3",
   "language": "python",
   "name": "python3"
  },
  "language_info": {
   "codemirror_mode": {
    "name": "ipython",
    "version": 3
   },
   "file_extension": ".py",
   "mimetype": "text/x-python",
   "name": "python",
   "nbconvert_exporter": "python",
   "pygments_lexer": "ipython3",
   "version": "3.7.3"
  }
 },
 "nbformat": 4,
 "nbformat_minor": 2
}
