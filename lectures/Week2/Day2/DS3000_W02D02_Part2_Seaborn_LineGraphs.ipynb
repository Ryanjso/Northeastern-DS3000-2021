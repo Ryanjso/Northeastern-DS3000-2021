{
 "cells": [
  {
   "cell_type": "markdown",
   "metadata": {
    "slideshow": {
     "slide_type": "slide"
    }
   },
   "source": [
    "<center> <img src=\"https://yildirimcaglar.github.io/ds3000/ds3000.png\"> </center>"
   ]
  },
  {
   "cell_type": "markdown",
   "metadata": {},
   "source": [
    "<center> <h2> Seaborn Line Graphs</h2></center>"
   ]
  },
  {
   "cell_type": "markdown",
   "metadata": {
    "slideshow": {
     "slide_type": "skip"
    }
   },
   "source": [
    "## Outline\n",
    "1. <a href='#1'>Line Graphs</a>\n",
    "2. <a href='#2'>Plotting Multiple Lines</a>\n",
    "3. <a href='#3'>Plot Properties</a>\n",
    "4. <a href='#4'>Changing the Legend's Location</a>"
   ]
  },
  {
   "cell_type": "markdown",
   "metadata": {
    "slideshow": {
     "slide_type": "skip"
    }
   },
   "source": [
    "<a id=\"1\"></a>"
   ]
  },
  {
   "cell_type": "markdown",
   "metadata": {
    "slideshow": {
     "slide_type": "slide"
    }
   },
   "source": [
    "## 1. Line Graphs\n",
    "* Commonly used to show change in one variable over time \n",
    "* The x-axis should be a numeric variable, unlike a bar graph\n",
    "* Use **sns.lineplot()** method to draw line graphs\n",
    "* https://seaborn.pydata.org/generated/seaborn.lineplot.html"
   ]
  },
  {
   "cell_type": "code",
   "execution_count": null,
   "metadata": {
    "slideshow": {
     "slide_type": "subslide"
    }
   },
   "outputs": [],
   "source": [
    "#house points deducted from Gryffindor over years\n",
    "years = [1, 2, 3, 4, 5, 6]\n",
    "points_deducted = [189, 5, 125, 90, 125, 90]"
   ]
  },
  {
   "cell_type": "code",
   "execution_count": null,
   "metadata": {},
   "outputs": [],
   "source": [
    "import matplotlib.pyplot as plt"
   ]
  },
  {
   "cell_type": "code",
   "execution_count": null,
   "metadata": {},
   "outputs": [],
   "source": [
    "%matplotlib inline"
   ]
  },
  {
   "cell_type": "code",
   "execution_count": null,
   "metadata": {
    "slideshow": {
     "slide_type": "subslide"
    }
   },
   "outputs": [],
   "source": [
    "import seaborn as sns\n",
    "\n",
    "# create and display the line plot\n",
    "graph = sns.lineplot(x=years, y=points_deducted)\n",
    "\n",
    "#specify the title\n",
    "title = \"Points Deducted from Gryffindor over Years\"\n",
    "\n",
    "#set the title of the plot\n",
    "graph.set_title(title, size = 16)\n",
    "\n",
    "#add labels to the axes  \n",
    "graph.set_xlabel(\"Year\", size = 16)\n",
    "graph.set_ylabel(\"Points Deducted\", size = 16)"
   ]
  },
  {
   "cell_type": "markdown",
   "metadata": {
    "slideshow": {
     "slide_type": "skip"
    }
   },
   "source": [
    "<a id=\"2\"></a>"
   ]
  },
  {
   "cell_type": "markdown",
   "metadata": {
    "slideshow": {
     "slide_type": "slide"
    }
   },
   "source": [
    "## 2. Plotting Multiple Lines\n",
    "* The datafile should have at least three columns:\n",
    "    * One for the labels on the x-axis\n",
    "    * One for the values on the y-axis\n",
    "    * One for the category of the lines (grouping column)\n",
    "\n",
    "<br>\n",
    "\n",
    "* Specify the category column, or variable, using the **hue** keyword attribute\n",
    "    * **hue** indicates the grouping variable that will produce lines with different colors."
   ]
  },
  {
   "cell_type": "code",
   "execution_count": null,
   "metadata": {
    "slideshow": {
     "slide_type": "subslide"
    }
   },
   "outputs": [],
   "source": [
    "import pandas as pd"
   ]
  },
  {
   "cell_type": "code",
   "execution_count": null,
   "metadata": {},
   "outputs": [],
   "source": [
    "df = pd.read_csv(\"res/house_points_years.csv\")"
   ]
  },
  {
   "cell_type": "code",
   "execution_count": null,
   "metadata": {},
   "outputs": [],
   "source": [
    "df"
   ]
  },
  {
   "cell_type": "code",
   "execution_count": null,
   "metadata": {
    "slideshow": {
     "slide_type": "subslide"
    }
   },
   "outputs": [],
   "source": [
    "df.head()"
   ]
  },
  {
   "cell_type": "code",
   "execution_count": null,
   "metadata": {},
   "outputs": [],
   "source": [
    "graph = sns.lineplot(x=\"Year\", y=\"Points\", hue=\"Type\", data = df)"
   ]
  },
  {
   "cell_type": "code",
   "execution_count": null,
   "metadata": {
    "slideshow": {
     "slide_type": "subslide"
    }
   },
   "outputs": [],
   "source": [
    "import seaborn as sns\n",
    "\n",
    "# create and display the line plot\n",
    "graph = sns.lineplot(x=\"Year\", y=\"Points\", hue=\"Type\", data = df, palette = [\"darkred\", \"darkgreen\"])\n",
    "\n",
    "#specify the title\n",
    "title = \"Points Awarded/Deducted over Years (Gryffindor)\"\n",
    "\n",
    "#set the title of the plot\n",
    "graph.set_title(title, size = 16)\n",
    "\n",
    "#add labels to the axes  \n",
    "graph.set_xlabel(\"Year\", size = 16)\n",
    "graph.set_ylabel(\"Points\", size = 16)"
   ]
  },
  {
   "cell_type": "markdown",
   "metadata": {
    "slideshow": {
     "slide_type": "skip"
    }
   },
   "source": [
    "<a id=\"3\"></a>"
   ]
  },
  {
   "cell_type": "markdown",
   "metadata": {
    "slideshow": {
     "slide_type": "slide"
    }
   },
   "source": [
    "## 3. Plot Properties\n",
    "* Seaborn's plotting_context() method gives you a dictionary of plot properties relevant to the active plot"
   ]
  },
  {
   "cell_type": "code",
   "execution_count": null,
   "metadata": {},
   "outputs": [],
   "source": [
    "sns.plotting_context()"
   ]
  },
  {
   "cell_type": "markdown",
   "metadata": {
    "slideshow": {
     "slide_type": "subslide"
    }
   },
   "source": [
    "### 3.1. Changing Plot Properties\n",
    "* **set_context()** method allows you to change the properties of the plotting context\n",
    "* Changes are applied to the entire plotting context\n",
    "* **rc** parameter allows you to modify the properties of a plot\n",
    "    * **sns.set_context(rc = {})**\n",
    "* https://seaborn.pydata.org/generated/seaborn.set_context.html\n"
   ]
  },
  {
   "cell_type": "markdown",
   "metadata": {},
   "source": [
    "#### Let's change the width of the lines"
   ]
  },
  {
   "cell_type": "code",
   "execution_count": null,
   "metadata": {},
   "outputs": [],
   "source": [
    "sns.set_context(rc = {\"lines.linewidth\":2})"
   ]
  },
  {
   "cell_type": "code",
   "execution_count": null,
   "metadata": {
    "slideshow": {
     "slide_type": "subslide"
    }
   },
   "outputs": [],
   "source": [
    "import seaborn as sns\n",
    "\n",
    "#change the width of the lines\n",
    "sns.set_context(rc = {\"lines.linewidth\":2})\n",
    "\n",
    "# create and display the line plot\n",
    "graph = sns.lineplot(x=\"Year\", y=\"Points\", hue=\"Type\", data = df, palette = [\"darkred\", \"darkgreen\"])\n",
    "\n",
    "#specify the title\n",
    "title = \"Points Awarded/Deducted over Years (Gryffindor)\"\n",
    "\n",
    "#set the title of the plot\n",
    "graph.set_title(title, size = 16)\n",
    "\n",
    "#add labels to the axes  \n",
    "graph.set_xlabel(\"Year\", size = 16)\n",
    "graph.set_ylabel(\"Points\", size = 16)\n"
   ]
  },
  {
   "cell_type": "markdown",
   "metadata": {
    "slideshow": {
     "slide_type": "skip"
    }
   },
   "source": [
    "<a id=\"4\"></a>"
   ]
  },
  {
   "cell_type": "markdown",
   "metadata": {
    "slideshow": {
     "slide_type": "slide"
    }
   },
   "source": [
    "## 4. Changing the Legend's Location\n",
    "* Use Matplotlib's legend() method to control where the legend will be shown:\n",
    "    * **plt.legend(loc = \"upper right\")**\n",
    "\n",
    "| Location String | Location Code\n",
    "| :---\t| :---\n",
    "| 'best' |\t0\n",
    "| 'upper right' |\t1\n",
    "| 'upper left' |\t2\n",
    "| 'lower left' |\t3\n",
    "| 'lower right'\t| 4\n",
    "| 'right' | 5\n",
    "| 'center left' | \t6\n",
    "| 'center right' | 7\n",
    "| 'lower center' | 8\n",
    "| 'upper center' | 9\n",
    "| 'center' | 10"
   ]
  },
  {
   "cell_type": "code",
   "execution_count": null,
   "metadata": {
    "slideshow": {
     "slide_type": "subslide"
    }
   },
   "outputs": [],
   "source": [
    "import seaborn as sns\n",
    "\n",
    "# create and display the line plot\n",
    "graph = sns.lineplot(x=\"Year\", y=\"Points\", hue=\"Type\", data = df, palette = [\"darkred\", \"darkgreen\"])\n",
    "\n",
    "#specify the title\n",
    "title = \"House Points Awarded/Deducted over Years\"\n",
    "\n",
    "#set the title of the plot\n",
    "graph.set_title(title, size = 16)\n",
    "\n",
    "#add labels to the axes  \n",
    "graph.set_xlabel(\"Year\", size = 16)\n",
    "graph.set_ylabel(\"Points\", size = 16)\n",
    "\n",
    "# place the legend in the upper right corner of the figure\n",
    "plt.legend(loc=\"best\")"
   ]
  },
  {
   "cell_type": "code",
   "execution_count": null,
   "metadata": {},
   "outputs": [],
   "source": []
  }
 ],
 "metadata": {
  "celltoolbar": "Slideshow",
  "kernelspec": {
   "display_name": "Python 3",
   "language": "python",
   "name": "python3"
  },
  "language_info": {
   "codemirror_mode": {
    "name": "ipython",
    "version": 3
   },
   "file_extension": ".py",
   "mimetype": "text/x-python",
   "name": "python",
   "nbconvert_exporter": "python",
   "pygments_lexer": "ipython3",
   "version": "3.7.3"
  }
 },
 "nbformat": 4,
 "nbformat_minor": 2
}
